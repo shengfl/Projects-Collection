{
 "cells": [
  {
   "cell_type": "code",
   "execution_count": 8,
   "id": "a760e60f-4174-441e-a609-55675121fa2c",
   "metadata": {},
   "outputs": [],
   "source": [
    "import pandas as pd\n",
    "import matplotlib.pyplot as plt\n",
    "import seaborn as sns"
   ]
  },
  {
   "cell_type": "code",
   "execution_count": 266,
   "id": "bb274210-5c98-4b42-ad18-064c78296028",
   "metadata": {},
   "outputs": [],
   "source": [
    "df = pd.read_csv('./data/Kevin_Hillstrom_MineThatData_E-MailAnalytics_DataMiningChallenge_2008.03.20.csv')"
   ]
  },
  {
   "cell_type": "code",
   "execution_count": 267,
   "id": "ab5c5fe2-36cd-4619-a95d-5533de3d4089",
   "metadata": {},
   "outputs": [
    {
     "data": {
      "text/plain": [
       "(64000, 12)"
      ]
     },
     "execution_count": 267,
     "metadata": {},
     "output_type": "execute_result"
    }
   ],
   "source": [
    "df.shape"
   ]
  },
  {
   "cell_type": "code",
   "execution_count": 268,
   "id": "ddccb9cb-09fe-4f24-b597-47c8d1d29302",
   "metadata": {},
   "outputs": [
    {
     "data": {
      "text/html": [
       "<div>\n",
       "<style scoped>\n",
       "    .dataframe tbody tr th:only-of-type {\n",
       "        vertical-align: middle;\n",
       "    }\n",
       "\n",
       "    .dataframe tbody tr th {\n",
       "        vertical-align: top;\n",
       "    }\n",
       "\n",
       "    .dataframe thead th {\n",
       "        text-align: right;\n",
       "    }\n",
       "</style>\n",
       "<table border=\"1\" class=\"dataframe\">\n",
       "  <thead>\n",
       "    <tr style=\"text-align: right;\">\n",
       "      <th></th>\n",
       "      <th>recency</th>\n",
       "      <th>history_segment</th>\n",
       "      <th>history</th>\n",
       "      <th>mens</th>\n",
       "      <th>womens</th>\n",
       "      <th>zip_code</th>\n",
       "      <th>newbie</th>\n",
       "      <th>channel</th>\n",
       "      <th>segment</th>\n",
       "      <th>visit</th>\n",
       "      <th>conversion</th>\n",
       "      <th>spend</th>\n",
       "    </tr>\n",
       "  </thead>\n",
       "  <tbody>\n",
       "    <tr>\n",
       "      <th>0</th>\n",
       "      <td>10</td>\n",
       "      <td>2) $100 - $200</td>\n",
       "      <td>142.44</td>\n",
       "      <td>1</td>\n",
       "      <td>0</td>\n",
       "      <td>Surburban</td>\n",
       "      <td>0</td>\n",
       "      <td>Phone</td>\n",
       "      <td>Womens E-Mail</td>\n",
       "      <td>0</td>\n",
       "      <td>0</td>\n",
       "      <td>0.0</td>\n",
       "    </tr>\n",
       "    <tr>\n",
       "      <th>1</th>\n",
       "      <td>6</td>\n",
       "      <td>3) $200 - $350</td>\n",
       "      <td>329.08</td>\n",
       "      <td>1</td>\n",
       "      <td>1</td>\n",
       "      <td>Rural</td>\n",
       "      <td>1</td>\n",
       "      <td>Web</td>\n",
       "      <td>No E-Mail</td>\n",
       "      <td>0</td>\n",
       "      <td>0</td>\n",
       "      <td>0.0</td>\n",
       "    </tr>\n",
       "    <tr>\n",
       "      <th>2</th>\n",
       "      <td>7</td>\n",
       "      <td>2) $100 - $200</td>\n",
       "      <td>180.65</td>\n",
       "      <td>0</td>\n",
       "      <td>1</td>\n",
       "      <td>Surburban</td>\n",
       "      <td>1</td>\n",
       "      <td>Web</td>\n",
       "      <td>Womens E-Mail</td>\n",
       "      <td>0</td>\n",
       "      <td>0</td>\n",
       "      <td>0.0</td>\n",
       "    </tr>\n",
       "    <tr>\n",
       "      <th>3</th>\n",
       "      <td>9</td>\n",
       "      <td>5) $500 - $750</td>\n",
       "      <td>675.83</td>\n",
       "      <td>1</td>\n",
       "      <td>0</td>\n",
       "      <td>Rural</td>\n",
       "      <td>1</td>\n",
       "      <td>Web</td>\n",
       "      <td>Mens E-Mail</td>\n",
       "      <td>0</td>\n",
       "      <td>0</td>\n",
       "      <td>0.0</td>\n",
       "    </tr>\n",
       "    <tr>\n",
       "      <th>4</th>\n",
       "      <td>2</td>\n",
       "      <td>1) $0 - $100</td>\n",
       "      <td>45.34</td>\n",
       "      <td>1</td>\n",
       "      <td>0</td>\n",
       "      <td>Urban</td>\n",
       "      <td>0</td>\n",
       "      <td>Web</td>\n",
       "      <td>Womens E-Mail</td>\n",
       "      <td>0</td>\n",
       "      <td>0</td>\n",
       "      <td>0.0</td>\n",
       "    </tr>\n",
       "  </tbody>\n",
       "</table>\n",
       "</div>"
      ],
      "text/plain": [
       "   recency history_segment  history  mens  womens   zip_code  newbie channel  \\\n",
       "0       10  2) $100 - $200   142.44     1       0  Surburban       0   Phone   \n",
       "1        6  3) $200 - $350   329.08     1       1      Rural       1     Web   \n",
       "2        7  2) $100 - $200   180.65     0       1  Surburban       1     Web   \n",
       "3        9  5) $500 - $750   675.83     1       0      Rural       1     Web   \n",
       "4        2    1) $0 - $100    45.34     1       0      Urban       0     Web   \n",
       "\n",
       "         segment  visit  conversion  spend  \n",
       "0  Womens E-Mail      0           0    0.0  \n",
       "1      No E-Mail      0           0    0.0  \n",
       "2  Womens E-Mail      0           0    0.0  \n",
       "3    Mens E-Mail      0           0    0.0  \n",
       "4  Womens E-Mail      0           0    0.0  "
      ]
     },
     "execution_count": 268,
     "metadata": {},
     "output_type": "execute_result"
    }
   ],
   "source": [
    "df.head()"
   ]
  },
  {
   "cell_type": "code",
   "execution_count": 269,
   "id": "ca672a04-3050-4f95-ac81-29733f1d3418",
   "metadata": {},
   "outputs": [
    {
     "name": "stdout",
     "output_type": "stream",
     "text": [
      "<class 'pandas.core.frame.DataFrame'>\n",
      "RangeIndex: 64000 entries, 0 to 63999\n",
      "Data columns (total 12 columns):\n",
      " #   Column           Non-Null Count  Dtype  \n",
      "---  ------           --------------  -----  \n",
      " 0   recency          64000 non-null  int64  \n",
      " 1   history_segment  64000 non-null  object \n",
      " 2   history          64000 non-null  float64\n",
      " 3   mens             64000 non-null  int64  \n",
      " 4   womens           64000 non-null  int64  \n",
      " 5   zip_code         64000 non-null  object \n",
      " 6   newbie           64000 non-null  int64  \n",
      " 7   channel          64000 non-null  object \n",
      " 8   segment          64000 non-null  object \n",
      " 9   visit            64000 non-null  int64  \n",
      " 10  conversion       64000 non-null  int64  \n",
      " 11  spend            64000 non-null  float64\n",
      "dtypes: float64(2), int64(6), object(4)\n",
      "memory usage: 5.9+ MB\n"
     ]
    }
   ],
   "source": [
    "df.info()"
   ]
  },
  {
   "cell_type": "markdown",
   "id": "03ae8cb0-e16d-4d59-a3ac-533f6e4c90c7",
   "metadata": {},
   "source": [
    "## 数据字典\n",
    "- Recency: Months since last purchase.\n",
    "- History_Segment: Categorization of dollars spent in the past year.\n",
    "- History: Actual dollar value spent in the past year.\n",
    "- Mens: 1/0 indicator, 1 = customer purchased Mens merchandise in the past year.\n",
    "- Womens: 1/0 indicator, 1 = customer purchased Womens merchandise in the past year.\n",
    "- Zip_Code: Classifies zip code as Urban, Suburban, or Rural.\n",
    "- Newbie: 1/0 indicator, 1 = New customer in the past twelve months.\n",
    "- Channel: Describes the channels the customer purchased from in the past year.\n",
    "Another variable describes the e-mail campaign the customer received:\n",
    "- Segment  \n",
    "    Mens E-Mail  \n",
    "    Womens E-Mail  \n",
    "    No E-Mail  \n",
    "Finally, we have a series of variables describing activity in the two weeks following delivery of the e-mail campaign:\n",
    "- Visit: 1/0 indicator, 1 = Customer visited website in the following two weeks.\n",
    "- Conversion: 1/0 indicator, 1 = Customer purchased merchandise in the following two weeks.\n",
    "- Spend: Actual dollars spent in the following two weeks."
   ]
  },
  {
   "cell_type": "code",
   "execution_count": 270,
   "id": "ae3b0bc5-1b28-4965-a635-50219760de15",
   "metadata": {},
   "outputs": [
    {
     "data": {
      "text/plain": [
       "Index(['recency', 'history_segment', 'history', 'mens', 'womens', 'zip_code',\n",
       "       'newbie', 'channel', 'segment', 'visit', 'conversion', 'spend'],\n",
       "      dtype='object')"
      ]
     },
     "execution_count": 270,
     "metadata": {},
     "output_type": "execute_result"
    }
   ],
   "source": [
    "df.columns"
   ]
  },
  {
   "cell_type": "markdown",
   "id": "f0807df7-5901-4f1a-941f-5fc466085cba",
   "metadata": {},
   "source": [
    "## 1. EDA"
   ]
  },
  {
   "cell_type": "code",
   "execution_count": 271,
   "id": "2d4c04d4-ad44-4e23-8fbb-c15067617a90",
   "metadata": {},
   "outputs": [
    {
     "data": {
      "text/plain": [
       "recency            0\n",
       "history_segment    0\n",
       "history            0\n",
       "mens               0\n",
       "womens             0\n",
       "zip_code           0\n",
       "newbie             0\n",
       "channel            0\n",
       "segment            0\n",
       "visit              0\n",
       "conversion         0\n",
       "spend              0\n",
       "dtype: int64"
      ]
     },
     "execution_count": 271,
     "metadata": {},
     "output_type": "execute_result"
    }
   ],
   "source": [
    "# 缺失值检查\n",
    "df.isnull().sum()"
   ]
  },
  {
   "cell_type": "code",
   "execution_count": 272,
   "id": "71e36bd4-e4a9-4d73-b8ba-1f8565ad40f3",
   "metadata": {},
   "outputs": [
    {
     "data": {
      "text/plain": [
       "segment\n",
       "Womens E-Mail    21387\n",
       "Mens E-Mail      21307\n",
       "No E-Mail        21306\n",
       "Name: count, dtype: int64"
      ]
     },
     "execution_count": 272,
     "metadata": {},
     "output_type": "execute_result"
    }
   ],
   "source": [
    "# 查看 treatment 分布（邮件类型）\n",
    "df['segment'].value_counts()"
   ]
  },
  {
   "cell_type": "code",
   "execution_count": 273,
   "id": "1f3f8e7a-451b-4337-a46d-6b13b4259979",
   "metadata": {},
   "outputs": [
    {
     "data": {
      "text/plain": [
       "visit\n",
       "0    0.853219\n",
       "1    0.146781\n",
       "Name: proportion, dtype: float64"
      ]
     },
     "execution_count": 273,
     "metadata": {},
     "output_type": "execute_result"
    }
   ],
   "source": [
    "df['visit'].value_counts(normalize=True)"
   ]
  },
  {
   "cell_type": "code",
   "execution_count": 274,
   "id": "7c575d71-124c-4c2f-b171-44e44af100ce",
   "metadata": {},
   "outputs": [
    {
     "data": {
      "text/plain": [
       "conversion\n",
       "0    0.990969\n",
       "1    0.009031\n",
       "Name: proportion, dtype: float64"
      ]
     },
     "execution_count": 274,
     "metadata": {},
     "output_type": "execute_result"
    }
   ],
   "source": [
    "# 查看目标变量分布\n",
    "df['conversion'].value_counts(normalize=True)"
   ]
  },
  {
   "cell_type": "code",
   "execution_count": 275,
   "id": "844e6423-5f3f-4ea0-8ca3-6f07136160e7",
   "metadata": {},
   "outputs": [
    {
     "data": {
      "text/html": [
       "<div>\n",
       "<style scoped>\n",
       "    .dataframe tbody tr th:only-of-type {\n",
       "        vertical-align: middle;\n",
       "    }\n",
       "\n",
       "    .dataframe tbody tr th {\n",
       "        vertical-align: top;\n",
       "    }\n",
       "\n",
       "    .dataframe thead th {\n",
       "        text-align: right;\n",
       "    }\n",
       "</style>\n",
       "<table border=\"1\" class=\"dataframe\">\n",
       "  <thead>\n",
       "    <tr style=\"text-align: right;\">\n",
       "      <th></th>\n",
       "      <th>segment</th>\n",
       "      <th>mean</th>\n",
       "      <th>sum</th>\n",
       "      <th>count</th>\n",
       "    </tr>\n",
       "  </thead>\n",
       "  <tbody>\n",
       "    <tr>\n",
       "      <th>0</th>\n",
       "      <td>Mens E-Mail</td>\n",
       "      <td>0.012531</td>\n",
       "      <td>267</td>\n",
       "      <td>21307</td>\n",
       "    </tr>\n",
       "    <tr>\n",
       "      <th>1</th>\n",
       "      <td>No E-Mail</td>\n",
       "      <td>0.005726</td>\n",
       "      <td>122</td>\n",
       "      <td>21306</td>\n",
       "    </tr>\n",
       "    <tr>\n",
       "      <th>2</th>\n",
       "      <td>Womens E-Mail</td>\n",
       "      <td>0.008837</td>\n",
       "      <td>189</td>\n",
       "      <td>21387</td>\n",
       "    </tr>\n",
       "  </tbody>\n",
       "</table>\n",
       "</div>"
      ],
      "text/plain": [
       "         segment      mean  sum  count\n",
       "0    Mens E-Mail  0.012531  267  21307\n",
       "1      No E-Mail  0.005726  122  21306\n",
       "2  Womens E-Mail  0.008837  189  21387"
      ]
     },
     "execution_count": 275,
     "metadata": {},
     "output_type": "execute_result"
    }
   ],
   "source": [
    "df_test = df.groupby('segment')['conversion'].agg(['mean', 'sum', 'count']).reset_index()\n",
    "df_test"
   ]
  },
  {
   "cell_type": "code",
   "execution_count": 276,
   "id": "c8815eab-ed24-4d3e-aec5-c040ba4f73d2",
   "metadata": {},
   "outputs": [
    {
     "data": {
      "text/html": [
       "<div>\n",
       "<style scoped>\n",
       "    .dataframe tbody tr th:only-of-type {\n",
       "        vertical-align: middle;\n",
       "    }\n",
       "\n",
       "    .dataframe tbody tr th {\n",
       "        vertical-align: top;\n",
       "    }\n",
       "\n",
       "    .dataframe thead th {\n",
       "        text-align: right;\n",
       "    }\n",
       "</style>\n",
       "<table border=\"1\" class=\"dataframe\">\n",
       "  <thead>\n",
       "    <tr style=\"text-align: right;\">\n",
       "      <th></th>\n",
       "      <th>segment</th>\n",
       "      <th>mean</th>\n",
       "      <th>sum</th>\n",
       "      <th>count</th>\n",
       "      <th>abs_up_percent</th>\n",
       "    </tr>\n",
       "  </thead>\n",
       "  <tbody>\n",
       "    <tr>\n",
       "      <th>0</th>\n",
       "      <td>Mens E-Mail</td>\n",
       "      <td>0.012531</td>\n",
       "      <td>267</td>\n",
       "      <td>21307</td>\n",
       "      <td>0.006805</td>\n",
       "    </tr>\n",
       "    <tr>\n",
       "      <th>1</th>\n",
       "      <td>No E-Mail</td>\n",
       "      <td>0.005726</td>\n",
       "      <td>122</td>\n",
       "      <td>21306</td>\n",
       "      <td>0.000000</td>\n",
       "    </tr>\n",
       "    <tr>\n",
       "      <th>2</th>\n",
       "      <td>Womens E-Mail</td>\n",
       "      <td>0.008837</td>\n",
       "      <td>189</td>\n",
       "      <td>21387</td>\n",
       "      <td>0.003111</td>\n",
       "    </tr>\n",
       "  </tbody>\n",
       "</table>\n",
       "</div>"
      ],
      "text/plain": [
       "         segment      mean  sum  count  abs_up_percent\n",
       "0    Mens E-Mail  0.012531  267  21307        0.006805\n",
       "1      No E-Mail  0.005726  122  21306        0.000000\n",
       "2  Womens E-Mail  0.008837  189  21387        0.003111"
      ]
     },
     "execution_count": 276,
     "metadata": {},
     "output_type": "execute_result"
    }
   ],
   "source": [
    "df_test['abs_up_percent'] = df_test['mean'] - df_test['mean'].iloc[1]\n",
    "df_test"
   ]
  },
  {
   "cell_type": "code",
   "execution_count": 277,
   "id": "00a4a9f7-75c3-4896-bbba-8305f050acec",
   "metadata": {},
   "outputs": [
    {
     "data": {
      "text/html": [
       "<div>\n",
       "<style scoped>\n",
       "    .dataframe tbody tr th:only-of-type {\n",
       "        vertical-align: middle;\n",
       "    }\n",
       "\n",
       "    .dataframe tbody tr th {\n",
       "        vertical-align: top;\n",
       "    }\n",
       "\n",
       "    .dataframe thead th {\n",
       "        text-align: right;\n",
       "    }\n",
       "</style>\n",
       "<table border=\"1\" class=\"dataframe\">\n",
       "  <thead>\n",
       "    <tr style=\"text-align: right;\">\n",
       "      <th></th>\n",
       "      <th>segment</th>\n",
       "      <th>mean</th>\n",
       "      <th>sum</th>\n",
       "      <th>count</th>\n",
       "      <th>abs_up_percent</th>\n",
       "      <th>rel_up_percent</th>\n",
       "    </tr>\n",
       "  </thead>\n",
       "  <tbody>\n",
       "    <tr>\n",
       "      <th>0</th>\n",
       "      <td>Mens E-Mail</td>\n",
       "      <td>0.012531</td>\n",
       "      <td>267</td>\n",
       "      <td>21307</td>\n",
       "      <td>0.006805</td>\n",
       "      <td>1.188422</td>\n",
       "    </tr>\n",
       "    <tr>\n",
       "      <th>1</th>\n",
       "      <td>No E-Mail</td>\n",
       "      <td>0.005726</td>\n",
       "      <td>122</td>\n",
       "      <td>21306</td>\n",
       "      <td>0.000000</td>\n",
       "      <td>0.000000</td>\n",
       "    </tr>\n",
       "    <tr>\n",
       "      <th>2</th>\n",
       "      <td>Womens E-Mail</td>\n",
       "      <td>0.008837</td>\n",
       "      <td>189</td>\n",
       "      <td>21387</td>\n",
       "      <td>0.003111</td>\n",
       "      <td>0.543313</td>\n",
       "    </tr>\n",
       "  </tbody>\n",
       "</table>\n",
       "</div>"
      ],
      "text/plain": [
       "         segment      mean  sum  count  abs_up_percent  rel_up_percent\n",
       "0    Mens E-Mail  0.012531  267  21307        0.006805        1.188422\n",
       "1      No E-Mail  0.005726  122  21306        0.000000        0.000000\n",
       "2  Womens E-Mail  0.008837  189  21387        0.003111        0.543313"
      ]
     },
     "execution_count": 277,
     "metadata": {},
     "output_type": "execute_result"
    }
   ],
   "source": [
    "df_test['rel_up_percent'] = (df_test['mean'] / df_test['mean'].iloc[1]) - 1\n",
    "df_test"
   ]
  },
  {
   "cell_type": "markdown",
   "id": "8c92a1e4-4fdd-4dce-bc84-bf7c40f0055a",
   "metadata": {},
   "source": [
    "$$SE=\\sqrt{\\frac{p_1(1-p_1)}{n_1}+\\frac{p_2(1-p_2)}{n_2}}$$\n",
    "$$Z=\\frac{p_1-p_2}{SE}$$"
   ]
  },
  {
   "cell_type": "code",
   "execution_count": 290,
   "id": "58ada7d5-ead7-46bf-aa35-34eacba346a5",
   "metadata": {},
   "outputs": [
    {
     "data": {
      "text/html": [
       "<div>\n",
       "<style scoped>\n",
       "    .dataframe tbody tr th:only-of-type {\n",
       "        vertical-align: middle;\n",
       "    }\n",
       "\n",
       "    .dataframe tbody tr th {\n",
       "        vertical-align: top;\n",
       "    }\n",
       "\n",
       "    .dataframe thead th {\n",
       "        text-align: right;\n",
       "    }\n",
       "</style>\n",
       "<table border=\"1\" class=\"dataframe\">\n",
       "  <thead>\n",
       "    <tr style=\"text-align: right;\">\n",
       "      <th></th>\n",
       "      <th>segment</th>\n",
       "      <th>mean</th>\n",
       "      <th>sum</th>\n",
       "      <th>count</th>\n",
       "      <th>abs_up_percent</th>\n",
       "      <th>rel_up_percent</th>\n",
       "      <th>SE</th>\n",
       "    </tr>\n",
       "  </thead>\n",
       "  <tbody>\n",
       "    <tr>\n",
       "      <th>0</th>\n",
       "      <td>Mens E-Mail</td>\n",
       "      <td>0.012531</td>\n",
       "      <td>267</td>\n",
       "      <td>21307</td>\n",
       "      <td>0.006805</td>\n",
       "      <td>1.188422</td>\n",
       "      <td>0.000921</td>\n",
       "    </tr>\n",
       "    <tr>\n",
       "      <th>1</th>\n",
       "      <td>No E-Mail</td>\n",
       "      <td>0.005726</td>\n",
       "      <td>122</td>\n",
       "      <td>21306</td>\n",
       "      <td>0.000000</td>\n",
       "      <td>0.000000</td>\n",
       "      <td>0.000731</td>\n",
       "    </tr>\n",
       "    <tr>\n",
       "      <th>2</th>\n",
       "      <td>Womens E-Mail</td>\n",
       "      <td>0.008837</td>\n",
       "      <td>189</td>\n",
       "      <td>21387</td>\n",
       "      <td>0.003111</td>\n",
       "      <td>0.543313</td>\n",
       "      <td>0.000822</td>\n",
       "    </tr>\n",
       "  </tbody>\n",
       "</table>\n",
       "</div>"
      ],
      "text/plain": [
       "         segment      mean  sum  count  abs_up_percent  rel_up_percent  \\\n",
       "0    Mens E-Mail  0.012531  267  21307        0.006805        1.188422   \n",
       "1      No E-Mail  0.005726  122  21306        0.000000        0.000000   \n",
       "2  Womens E-Mail  0.008837  189  21387        0.003111        0.543313   \n",
       "\n",
       "         SE  \n",
       "0  0.000921  \n",
       "1  0.000731  \n",
       "2  0.000822  "
      ]
     },
     "execution_count": 290,
     "metadata": {},
     "output_type": "execute_result"
    }
   ],
   "source": [
    "df_test['SE'] = np.sqrt(df_test['mean']*(1-df_test['mean'])/df_test['count'] + df_test['mean'].iloc[1]*(1-df_test['mean'].iloc[1])/df_test['count'])\n",
    "df_test"
   ]
  },
  {
   "cell_type": "code",
   "execution_count": 292,
   "id": "cc75da9b-ad0a-4934-9964-cead2755d517",
   "metadata": {},
   "outputs": [
    {
     "data": {
      "text/html": [
       "<div>\n",
       "<style scoped>\n",
       "    .dataframe tbody tr th:only-of-type {\n",
       "        vertical-align: middle;\n",
       "    }\n",
       "\n",
       "    .dataframe tbody tr th {\n",
       "        vertical-align: top;\n",
       "    }\n",
       "\n",
       "    .dataframe thead th {\n",
       "        text-align: right;\n",
       "    }\n",
       "</style>\n",
       "<table border=\"1\" class=\"dataframe\">\n",
       "  <thead>\n",
       "    <tr style=\"text-align: right;\">\n",
       "      <th></th>\n",
       "      <th>segment</th>\n",
       "      <th>mean</th>\n",
       "      <th>sum</th>\n",
       "      <th>count</th>\n",
       "      <th>abs_up_percent</th>\n",
       "      <th>rel_up_percent</th>\n",
       "      <th>SE</th>\n",
       "      <th>Z_score</th>\n",
       "    </tr>\n",
       "  </thead>\n",
       "  <tbody>\n",
       "    <tr>\n",
       "      <th>0</th>\n",
       "      <td>Mens E-Mail</td>\n",
       "      <td>0.012531</td>\n",
       "      <td>267</td>\n",
       "      <td>21307</td>\n",
       "      <td>0.006805</td>\n",
       "      <td>1.188422</td>\n",
       "      <td>0.000921</td>\n",
       "      <td>7.389964</td>\n",
       "    </tr>\n",
       "    <tr>\n",
       "      <th>1</th>\n",
       "      <td>No E-Mail</td>\n",
       "      <td>0.005726</td>\n",
       "      <td>122</td>\n",
       "      <td>21306</td>\n",
       "      <td>0.000000</td>\n",
       "      <td>0.000000</td>\n",
       "      <td>0.000731</td>\n",
       "      <td>0.000000</td>\n",
       "    </tr>\n",
       "    <tr>\n",
       "      <th>2</th>\n",
       "      <td>Womens E-Mail</td>\n",
       "      <td>0.008837</td>\n",
       "      <td>189</td>\n",
       "      <td>21387</td>\n",
       "      <td>0.003111</td>\n",
       "      <td>0.543313</td>\n",
       "      <td>0.000822</td>\n",
       "      <td>3.784546</td>\n",
       "    </tr>\n",
       "  </tbody>\n",
       "</table>\n",
       "</div>"
      ],
      "text/plain": [
       "         segment      mean  sum  count  abs_up_percent  rel_up_percent  \\\n",
       "0    Mens E-Mail  0.012531  267  21307        0.006805        1.188422   \n",
       "1      No E-Mail  0.005726  122  21306        0.000000        0.000000   \n",
       "2  Womens E-Mail  0.008837  189  21387        0.003111        0.543313   \n",
       "\n",
       "         SE   Z_score  \n",
       "0  0.000921  7.389964  \n",
       "1  0.000731  0.000000  \n",
       "2  0.000822  3.784546  "
      ]
     },
     "execution_count": 292,
     "metadata": {},
     "output_type": "execute_result"
    }
   ],
   "source": [
    "df_test['Z_score'] = (df_test['mean'] - df_test['mean'].iloc[1])/df_test['SE']\n",
    "df_test"
   ]
  },
  {
   "cell_type": "code",
   "execution_count": 278,
   "id": "a6f5db04-ba1c-401d-ace3-054c22619fb4",
   "metadata": {},
   "outputs": [],
   "source": [
    "from statsmodels.stats.proportion import proportions_ztest"
   ]
  },
  {
   "cell_type": "code",
   "execution_count": 298,
   "id": "f9af2607-0ec3-45f8-9666-ac19037ed6df",
   "metadata": {},
   "outputs": [
    {
     "data": {
      "text/html": [
       "<div>\n",
       "<style scoped>\n",
       "    .dataframe tbody tr th:only-of-type {\n",
       "        vertical-align: middle;\n",
       "    }\n",
       "\n",
       "    .dataframe tbody tr th {\n",
       "        vertical-align: top;\n",
       "    }\n",
       "\n",
       "    .dataframe thead th {\n",
       "        text-align: right;\n",
       "    }\n",
       "</style>\n",
       "<table border=\"1\" class=\"dataframe\">\n",
       "  <thead>\n",
       "    <tr style=\"text-align: right;\">\n",
       "      <th></th>\n",
       "      <th>segment</th>\n",
       "      <th>mean</th>\n",
       "      <th>sum</th>\n",
       "      <th>count</th>\n",
       "      <th>abs_up_percent</th>\n",
       "      <th>rel_up_percent</th>\n",
       "      <th>SE</th>\n",
       "      <th>Z_score</th>\n",
       "    </tr>\n",
       "  </thead>\n",
       "  <tbody>\n",
       "    <tr>\n",
       "      <th>0</th>\n",
       "      <td>Mens E-Mail</td>\n",
       "      <td>0.012531</td>\n",
       "      <td>267</td>\n",
       "      <td>21307</td>\n",
       "      <td>0.006805</td>\n",
       "      <td>1.188422</td>\n",
       "      <td>0.000921</td>\n",
       "      <td>7.389964</td>\n",
       "    </tr>\n",
       "    <tr>\n",
       "      <th>1</th>\n",
       "      <td>No E-Mail</td>\n",
       "      <td>0.005726</td>\n",
       "      <td>122</td>\n",
       "      <td>21306</td>\n",
       "      <td>0.000000</td>\n",
       "      <td>0.000000</td>\n",
       "      <td>0.000731</td>\n",
       "      <td>0.000000</td>\n",
       "    </tr>\n",
       "  </tbody>\n",
       "</table>\n",
       "</div>"
      ],
      "text/plain": [
       "       segment      mean  sum  count  abs_up_percent  rel_up_percent  \\\n",
       "0  Mens E-Mail  0.012531  267  21307        0.006805        1.188422   \n",
       "1    No E-Mail  0.005726  122  21306        0.000000        0.000000   \n",
       "\n",
       "         SE   Z_score  \n",
       "0  0.000921  7.389964  \n",
       "1  0.000731  0.000000  "
      ]
     },
     "execution_count": 298,
     "metadata": {},
     "output_type": "execute_result"
    }
   ],
   "source": [
    "groups = ['Mens E-Mail', 'No E-Mail']\n",
    "df_test[df_test['segment'].isin(groups)]"
   ]
  },
  {
   "cell_type": "code",
   "execution_count": 299,
   "id": "20940aa0-0aa2-4740-a21d-8b1da1694a8e",
   "metadata": {},
   "outputs": [
    {
     "data": {
      "text/plain": [
       "(7.385114410925771, 7.616117502977714e-14)"
      ]
     },
     "execution_count": 299,
     "metadata": {},
     "output_type": "execute_result"
    }
   ],
   "source": [
    "z_stat, p_value = proportions_ztest(df_test[df_test['segment'].isin(groups)]['sum'],\n",
    "                                    df_test[df_test['segment'].isin(groups)]['count'],\n",
    "                                    alternative='larger')\n",
    "z_stat, p_value"
   ]
  },
  {
   "cell_type": "code",
   "execution_count": 305,
   "id": "fac192a7-99fb-4657-85a1-894d51589241",
   "metadata": {},
   "outputs": [
    {
     "data": {
      "text/html": [
       "<div>\n",
       "<style scoped>\n",
       "    .dataframe tbody tr th:only-of-type {\n",
       "        vertical-align: middle;\n",
       "    }\n",
       "\n",
       "    .dataframe tbody tr th {\n",
       "        vertical-align: top;\n",
       "    }\n",
       "\n",
       "    .dataframe thead th {\n",
       "        text-align: right;\n",
       "    }\n",
       "</style>\n",
       "<table border=\"1\" class=\"dataframe\">\n",
       "  <thead>\n",
       "    <tr style=\"text-align: right;\">\n",
       "      <th></th>\n",
       "      <th>segment</th>\n",
       "      <th>mean</th>\n",
       "      <th>sum</th>\n",
       "      <th>count</th>\n",
       "      <th>abs_up_percent</th>\n",
       "      <th>rel_up_percent</th>\n",
       "      <th>SE</th>\n",
       "      <th>Z_score</th>\n",
       "    </tr>\n",
       "  </thead>\n",
       "  <tbody>\n",
       "    <tr>\n",
       "      <th>2</th>\n",
       "      <td>Womens E-Mail</td>\n",
       "      <td>0.008837</td>\n",
       "      <td>189</td>\n",
       "      <td>21387</td>\n",
       "      <td>0.003111</td>\n",
       "      <td>0.543313</td>\n",
       "      <td>0.000822</td>\n",
       "      <td>3.784546</td>\n",
       "    </tr>\n",
       "    <tr>\n",
       "      <th>1</th>\n",
       "      <td>No E-Mail</td>\n",
       "      <td>0.005726</td>\n",
       "      <td>122</td>\n",
       "      <td>21306</td>\n",
       "      <td>0.000000</td>\n",
       "      <td>0.000000</td>\n",
       "      <td>0.000731</td>\n",
       "      <td>0.000000</td>\n",
       "    </tr>\n",
       "  </tbody>\n",
       "</table>\n",
       "</div>"
      ],
      "text/plain": [
       "         segment      mean  sum  count  abs_up_percent  rel_up_percent  \\\n",
       "2  Womens E-Mail  0.008837  189  21387        0.003111        0.543313   \n",
       "1      No E-Mail  0.005726  122  21306        0.000000        0.000000   \n",
       "\n",
       "         SE   Z_score  \n",
       "2  0.000822  3.784546  \n",
       "1  0.000731  0.000000  "
      ]
     },
     "execution_count": 305,
     "metadata": {},
     "output_type": "execute_result"
    }
   ],
   "source": [
    "groups = ['Womens E-Mail', 'No E-Mail']\n",
    "df_test[df_test['segment'].isin(groups)].sort_values(by='sum', ascending=False)"
   ]
  },
  {
   "cell_type": "code",
   "execution_count": 306,
   "id": "c1563138-af95-4f10-9cd2-db38a818c271",
   "metadata": {},
   "outputs": [
    {
     "data": {
      "text/plain": [
       "(3.77956095835785, 7.855256455334224e-05)"
      ]
     },
     "execution_count": 306,
     "metadata": {},
     "output_type": "execute_result"
    }
   ],
   "source": [
    "z_stat, p_value = proportions_ztest(df_test[df_test['segment'].isin(groups)].sort_values(by='sum', ascending=False)['sum'],\n",
    "                                    df_test[df_test['segment'].isin(groups)].sort_values(by='sum', ascending=False)['count'],\n",
    "                                    alternative='larger')\n",
    "z_stat, p_value"
   ]
  },
  {
   "cell_type": "code",
   "execution_count": 307,
   "id": "2cbf262b-1d75-456a-8cef-dc9ec5ae17af",
   "metadata": {},
   "outputs": [
    {
     "data": {
      "text/html": [
       "<div>\n",
       "<style scoped>\n",
       "    .dataframe tbody tr th:only-of-type {\n",
       "        vertical-align: middle;\n",
       "    }\n",
       "\n",
       "    .dataframe tbody tr th {\n",
       "        vertical-align: top;\n",
       "    }\n",
       "\n",
       "    .dataframe thead th {\n",
       "        text-align: right;\n",
       "    }\n",
       "</style>\n",
       "<table border=\"1\" class=\"dataframe\">\n",
       "  <thead>\n",
       "    <tr style=\"text-align: right;\">\n",
       "      <th></th>\n",
       "      <th>segment</th>\n",
       "      <th>mean</th>\n",
       "      <th>sum</th>\n",
       "      <th>count</th>\n",
       "      <th>abs_up_percent</th>\n",
       "      <th>rel_up_percent</th>\n",
       "      <th>SE</th>\n",
       "      <th>Z_score</th>\n",
       "    </tr>\n",
       "  </thead>\n",
       "  <tbody>\n",
       "    <tr>\n",
       "      <th>0</th>\n",
       "      <td>Mens E-Mail</td>\n",
       "      <td>0.012531</td>\n",
       "      <td>267</td>\n",
       "      <td>21307</td>\n",
       "      <td>0.006805</td>\n",
       "      <td>1.188422</td>\n",
       "      <td>0.000921</td>\n",
       "      <td>7.389964</td>\n",
       "    </tr>\n",
       "    <tr>\n",
       "      <th>2</th>\n",
       "      <td>Womens E-Mail</td>\n",
       "      <td>0.008837</td>\n",
       "      <td>189</td>\n",
       "      <td>21387</td>\n",
       "      <td>0.003111</td>\n",
       "      <td>0.543313</td>\n",
       "      <td>0.000822</td>\n",
       "      <td>3.784546</td>\n",
       "    </tr>\n",
       "  </tbody>\n",
       "</table>\n",
       "</div>"
      ],
      "text/plain": [
       "         segment      mean  sum  count  abs_up_percent  rel_up_percent  \\\n",
       "0    Mens E-Mail  0.012531  267  21307        0.006805        1.188422   \n",
       "2  Womens E-Mail  0.008837  189  21387        0.003111        0.543313   \n",
       "\n",
       "         SE   Z_score  \n",
       "0  0.000921  7.389964  \n",
       "2  0.000822  3.784546  "
      ]
     },
     "execution_count": 307,
     "metadata": {},
     "output_type": "execute_result"
    }
   ],
   "source": [
    "groups = ['Womens E-Mail', 'Mens E-Mail']\n",
    "df_test[df_test['segment'].isin(groups)].sort_values(by='sum', ascending=False)"
   ]
  },
  {
   "cell_type": "code",
   "execution_count": 308,
   "id": "9c3a4e43-8c61-4d85-92be-de1ca0062136",
   "metadata": {},
   "outputs": [
    {
     "data": {
      "text/plain": [
       "(3.7125842027552878, 0.0001025768873284419)"
      ]
     },
     "execution_count": 308,
     "metadata": {},
     "output_type": "execute_result"
    }
   ],
   "source": [
    "z_stat, p_value = proportions_ztest(df_test[df_test['segment'].isin(groups)].sort_values(by='sum', ascending=False)['sum'],\n",
    "                                    df_test[df_test['segment'].isin(groups)].sort_values(by='sum', ascending=False)['count'],\n",
    "                                    alternative='larger')\n",
    "z_stat, p_value"
   ]
  },
  {
   "cell_type": "markdown",
   "id": "6efff0d3-25e9-4360-9b71-2d412fc37c43",
   "metadata": {},
   "source": [
    "结论：发送邮件提升效果显著。（三对：Mens E-Mail vs. No E-Mail, Womens E-Mail vs. No E-Mail, Mens E-Mail, Womens E-Mail）"
   ]
  },
  {
   "cell_type": "code",
   "execution_count": 309,
   "id": "51ca0a1b-a8a4-4fe0-8c61-b47c4fc0ed06",
   "metadata": {},
   "outputs": [
    {
     "data": {
      "image/png": "[encoded data removed]",
      "text/plain": [
       "<Figure size 1200x400 with 2 Axes>"
      ]
     },
     "metadata": {},
     "output_type": "display_data"
    }
   ],
   "source": [
    "# 查看数值变量分布\n",
    "num_cols = ['history', 'spend']\n",
    "df[num_cols].hist(bins=30, figsize=(12, 4), grid=False, color='skyblue', alpha=0.75,edgecolor='black', linewidth=.5)\n",
    "plt.axis('on')\n",
    "plt.tight_layout()\n",
    "plt.show()"
   ]
  },
  {
   "cell_type": "code",
   "execution_count": 249,
   "id": "5466efb0-cbb9-4cd4-aebb-31242778ffb3",
   "metadata": {},
   "outputs": [
    {
     "data": {
      "text/plain": [
       "<Axes: >"
      ]
     },
     "execution_count": 249,
     "metadata": {},
     "output_type": "execute_result"
    },
    {
     "data": {
      "image/png": "[encoded data removed]",
      "text/plain": [
       "<Figure size 1200x400 with 1 Axes>"
      ]
     },
     "metadata": {},
     "output_type": "display_data"
    }
   ],
   "source": [
    "df[df['spend'].values>0]['spend'].hist(bins=30, figsize=(12, 4), grid=False, color='skyblue', alpha=0.75,edgecolor='black', linewidth=.5)"
   ]
  },
  {
   "cell_type": "code",
   "execution_count": 250,
   "id": "318bcb08-6a7c-4fdf-b6c0-ee1b62e664cd",
   "metadata": {},
   "outputs": [
    {
     "data": {
      "text/plain": [
       "67258.12999999999"
      ]
     },
     "execution_count": 250,
     "metadata": {},
     "output_type": "execute_result"
    }
   ],
   "source": [
    "df['spend'].sum()"
   ]
  },
  {
   "cell_type": "code",
   "execution_count": 251,
   "id": "426cf84b-9ebe-406a-b7d4-008704ca731b",
   "metadata": {},
   "outputs": [
    {
     "data": {
      "image/png": "[encoded data removed]",
      "text/plain": [
       "<Figure size 1200x800 with 4 Axes>"
      ]
     },
     "metadata": {},
     "output_type": "display_data"
    }
   ],
   "source": [
    "cat_cols = ['recency', 'zip_code', 'channel', 'segment']\n",
    "fig, axes = plt.subplots(len(cat_cols)//2,2,figsize=(12,8))\n",
    "for idx, feature in enumerate(cat_cols):\n",
    "    row = idx // 2\n",
    "    col = idx % 2\n",
    "    ax = axes[row, col]\n",
    "\n",
    "    group_order = sorted(df[feature].unique(), reverse=False)\n",
    "    sns.countplot(x=feature, hue=row, order = group_order,\n",
    "                  data=df, ax=ax, stat='count', palette='Paired', edgecolor='black', linewidth=.5, legend=False)\n",
    "    ax.set_xlabel(feature, fontsize=14)                    \n",
    "    ax.set_ylabel('Frequency', fontsize=14) \n",
    "\n",
    "plt.xticks(rotation=0)\n",
    "plt.tight_layout()\n",
    "plt.show()"
   ]
  },
  {
   "cell_type": "markdown",
   "id": "d4711131-7940-4b98-b90c-5321dffc40ea",
   "metadata": {},
   "source": [
    "## 2. Encoding\n",
    "\n",
    "研究 Mens E-Mail vs. No E-Mail 这一对关系"
   ]
  },
  {
   "cell_type": "code",
   "execution_count": 312,
   "id": "29b232ff-1662-4cb4-abc1-de3dadb74c65",
   "metadata": {},
   "outputs": [],
   "source": [
    "df = df[~(df['segment']=='Womens E-Mail')]"
   ]
  },
  {
   "cell_type": "code",
   "execution_count": 313,
   "id": "1fc7719a-bbcb-46a9-a1cc-d80cad64e950",
   "metadata": {},
   "outputs": [],
   "source": [
    "# 定义 treatment：Mens E-Mail 作为 treatment，No E-Mail 为 control\n",
    "df['treatment'] = df['segment'].apply(lambda x: 1 if x == 'Mens E-Mail' else 0)"
   ]
  },
  {
   "cell_type": "code",
   "execution_count": 314,
   "id": "4af85248-1a4d-49e7-a11c-c0e405b3529c",
   "metadata": {},
   "outputs": [],
   "source": [
    "# Label：是否转化\n",
    "label_col = 'conversion'"
   ]
  },
  {
   "cell_type": "code",
   "execution_count": 315,
   "id": "cac4df94-d276-4bc9-bb9c-4a6d39e54b4b",
   "metadata": {},
   "outputs": [],
   "source": [
    "# 编码类别变量：one-hot encoding\n",
    "df_processed = pd.get_dummies(df, columns=['zip_code', 'channel', 'history_segment'], drop_first=True, dtype=int)"
   ]
  },
  {
   "cell_type": "code",
   "execution_count": 321,
   "id": "d8f508bd-4800-498d-a268-6758455fd681",
   "metadata": {},
   "outputs": [
    {
     "data": {
      "text/html": [
       "<div>\n",
       "<style scoped>\n",
       "    .dataframe tbody tr th:only-of-type {\n",
       "        vertical-align: middle;\n",
       "    }\n",
       "\n",
       "    .dataframe tbody tr th {\n",
       "        vertical-align: top;\n",
       "    }\n",
       "\n",
       "    .dataframe thead th {\n",
       "        text-align: right;\n",
       "    }\n",
       "</style>\n",
       "<table border=\"1\" class=\"dataframe\">\n",
       "  <thead>\n",
       "    <tr style=\"text-align: right;\">\n",
       "      <th></th>\n",
       "      <th>recency</th>\n",
       "      <th>history</th>\n",
       "      <th>mens</th>\n",
       "      <th>womens</th>\n",
       "      <th>newbie</th>\n",
       "      <th>segment</th>\n",
       "      <th>visit</th>\n",
       "      <th>conversion</th>\n",
       "      <th>spend</th>\n",
       "      <th>treatment</th>\n",
       "      <th>zip_code_Surburban</th>\n",
       "      <th>zip_code_Urban</th>\n",
       "      <th>channel_Phone</th>\n",
       "      <th>channel_Web</th>\n",
       "      <th>history_segment_2) $100 - $200</th>\n",
       "      <th>history_segment_3) $200 - $350</th>\n",
       "      <th>history_segment_4) $350 - $500</th>\n",
       "      <th>history_segment_5) $500 - $750</th>\n",
       "      <th>history_segment_6) $750 - $1,000</th>\n",
       "      <th>history_segment_7) $1,000 +</th>\n",
       "    </tr>\n",
       "  </thead>\n",
       "  <tbody>\n",
       "    <tr>\n",
       "      <th>1</th>\n",
       "      <td>6</td>\n",
       "      <td>329.08</td>\n",
       "      <td>1</td>\n",
       "      <td>1</td>\n",
       "      <td>1</td>\n",
       "      <td>No E-Mail</td>\n",
       "      <td>0</td>\n",
       "      <td>0</td>\n",
       "      <td>0.0</td>\n",
       "      <td>0</td>\n",
       "      <td>0</td>\n",
       "      <td>0</td>\n",
       "      <td>0</td>\n",
       "      <td>1</td>\n",
       "      <td>0</td>\n",
       "      <td>1</td>\n",
       "      <td>0</td>\n",
       "      <td>0</td>\n",
       "      <td>0</td>\n",
       "      <td>0</td>\n",
       "    </tr>\n",
       "    <tr>\n",
       "      <th>3</th>\n",
       "      <td>9</td>\n",
       "      <td>675.83</td>\n",
       "      <td>1</td>\n",
       "      <td>0</td>\n",
       "      <td>1</td>\n",
       "      <td>Mens E-Mail</td>\n",
       "      <td>0</td>\n",
       "      <td>0</td>\n",
       "      <td>0.0</td>\n",
       "      <td>1</td>\n",
       "      <td>0</td>\n",
       "      <td>0</td>\n",
       "      <td>0</td>\n",
       "      <td>1</td>\n",
       "      <td>0</td>\n",
       "      <td>0</td>\n",
       "      <td>0</td>\n",
       "      <td>1</td>\n",
       "      <td>0</td>\n",
       "      <td>0</td>\n",
       "    </tr>\n",
       "    <tr>\n",
       "      <th>8</th>\n",
       "      <td>9</td>\n",
       "      <td>675.07</td>\n",
       "      <td>1</td>\n",
       "      <td>1</td>\n",
       "      <td>1</td>\n",
       "      <td>Mens E-Mail</td>\n",
       "      <td>0</td>\n",
       "      <td>0</td>\n",
       "      <td>0.0</td>\n",
       "      <td>1</td>\n",
       "      <td>0</td>\n",
       "      <td>0</td>\n",
       "      <td>1</td>\n",
       "      <td>0</td>\n",
       "      <td>0</td>\n",
       "      <td>0</td>\n",
       "      <td>0</td>\n",
       "      <td>1</td>\n",
       "      <td>0</td>\n",
       "      <td>0</td>\n",
       "    </tr>\n",
       "    <tr>\n",
       "      <th>13</th>\n",
       "      <td>2</td>\n",
       "      <td>101.64</td>\n",
       "      <td>0</td>\n",
       "      <td>1</td>\n",
       "      <td>0</td>\n",
       "      <td>Mens E-Mail</td>\n",
       "      <td>1</td>\n",
       "      <td>0</td>\n",
       "      <td>0.0</td>\n",
       "      <td>1</td>\n",
       "      <td>0</td>\n",
       "      <td>1</td>\n",
       "      <td>0</td>\n",
       "      <td>1</td>\n",
       "      <td>1</td>\n",
       "      <td>0</td>\n",
       "      <td>0</td>\n",
       "      <td>0</td>\n",
       "      <td>0</td>\n",
       "      <td>0</td>\n",
       "    </tr>\n",
       "    <tr>\n",
       "      <th>14</th>\n",
       "      <td>4</td>\n",
       "      <td>241.42</td>\n",
       "      <td>0</td>\n",
       "      <td>1</td>\n",
       "      <td>1</td>\n",
       "      <td>No E-Mail</td>\n",
       "      <td>0</td>\n",
       "      <td>0</td>\n",
       "      <td>0.0</td>\n",
       "      <td>0</td>\n",
       "      <td>0</td>\n",
       "      <td>0</td>\n",
       "      <td>0</td>\n",
       "      <td>0</td>\n",
       "      <td>0</td>\n",
       "      <td>1</td>\n",
       "      <td>0</td>\n",
       "      <td>0</td>\n",
       "      <td>0</td>\n",
       "      <td>0</td>\n",
       "    </tr>\n",
       "  </tbody>\n",
       "</table>\n",
       "</div>"
      ],
      "text/plain": [
       "    recency  history  mens  womens  newbie      segment  visit  conversion  \\\n",
       "1         6   329.08     1       1       1    No E-Mail      0           0   \n",
       "3         9   675.83     1       0       1  Mens E-Mail      0           0   \n",
       "8         9   675.07     1       1       1  Mens E-Mail      0           0   \n",
       "13        2   101.64     0       1       0  Mens E-Mail      1           0   \n",
       "14        4   241.42     0       1       1    No E-Mail      0           0   \n",
       "\n",
       "    spend  treatment  zip_code_Surburban  zip_code_Urban  channel_Phone  \\\n",
       "1     0.0          0                   0               0              0   \n",
       "3     0.0          1                   0               0              0   \n",
       "8     0.0          1                   0               0              1   \n",
       "13    0.0          1                   0               1              0   \n",
       "14    0.0          0                   0               0              0   \n",
       "\n",
       "    channel_Web  history_segment_2) $100 - $200  \\\n",
       "1             1                               0   \n",
       "3             1                               0   \n",
       "8             0                               0   \n",
       "13            1                               1   \n",
       "14            0                               0   \n",
       "\n",
       "    history_segment_3) $200 - $350  history_segment_4) $350 - $500  \\\n",
       "1                                1                               0   \n",
       "3                                0                               0   \n",
       "8                                0                               0   \n",
       "13                               0                               0   \n",
       "14                               1                               0   \n",
       "\n",
       "    history_segment_5) $500 - $750  history_segment_6) $750 - $1,000  \\\n",
       "1                                0                                 0   \n",
       "3                                1                                 0   \n",
       "8                                1                                 0   \n",
       "13                               0                                 0   \n",
       "14                               0                                 0   \n",
       "\n",
       "    history_segment_7) $1,000 +  \n",
       "1                             0  \n",
       "3                             0  \n",
       "8                             0  \n",
       "13                            0  \n",
       "14                            0  "
      ]
     },
     "execution_count": 321,
     "metadata": {},
     "output_type": "execute_result"
    }
   ],
   "source": [
    "df_processed.head()"
   ]
  },
  {
   "cell_type": "code",
   "execution_count": 341,
   "id": "2011703a-c075-4c7e-8585-bd7106a4c112",
   "metadata": {},
   "outputs": [],
   "source": [
    "# 特征列（排除 label，spend和segment）\n",
    "feature_cols = [col for col in df_processed.columns if col not in ['treatment','segment', 'visit', 'conversion', 'spend']]"
   ]
  },
  {
   "cell_type": "code",
   "execution_count": 342,
   "id": "476a09d7-65b2-435d-9c9f-d5b3ee1c4c3b",
   "metadata": {},
   "outputs": [
    {
     "data": {
      "text/plain": [
       "['recency',\n",
       " 'history',\n",
       " 'mens',\n",
       " 'womens',\n",
       " 'newbie',\n",
       " 'zip_code_Surburban',\n",
       " 'zip_code_Urban',\n",
       " 'channel_Phone',\n",
       " 'channel_Web',\n",
       " 'history_segment_2) $100 - $200',\n",
       " 'history_segment_3) $200 - $350',\n",
       " 'history_segment_4) $350 - $500',\n",
       " 'history_segment_5) $500 - $750',\n",
       " 'history_segment_6) $750 - $1,000',\n",
       " 'history_segment_7) $1,000 +']"
      ]
     },
     "execution_count": 342,
     "metadata": {},
     "output_type": "execute_result"
    }
   ],
   "source": [
    "feature_cols"
   ]
  },
  {
   "cell_type": "markdown",
   "id": "cbc97152-fb04-4b2f-8d8a-93b64685df20",
   "metadata": {},
   "source": [
    "## 3. ATE"
   ]
  },
  {
   "cell_type": "code",
   "execution_count": 358,
   "id": "fe7e9939-71d0-4bf9-be89-200b8ae2791a",
   "metadata": {},
   "outputs": [
    {
     "data": {
      "text/html": [
       "<div>\n",
       "<style scoped>\n",
       "    .dataframe tbody tr th:only-of-type {\n",
       "        vertical-align: middle;\n",
       "    }\n",
       "\n",
       "    .dataframe tbody tr th {\n",
       "        vertical-align: top;\n",
       "    }\n",
       "\n",
       "    .dataframe thead th {\n",
       "        text-align: right;\n",
       "    }\n",
       "</style>\n",
       "<table border=\"1\" class=\"dataframe\">\n",
       "  <thead>\n",
       "    <tr style=\"text-align: right;\">\n",
       "      <th></th>\n",
       "      <th>recency</th>\n",
       "      <th>mens</th>\n",
       "      <th>womens</th>\n",
       "      <th>newbie</th>\n",
       "      <th>zip_code_Surburban</th>\n",
       "      <th>zip_code_Urban</th>\n",
       "      <th>channel_Phone</th>\n",
       "      <th>channel_Web</th>\n",
       "      <th>history_segment_2) $100 - $200</th>\n",
       "      <th>history_segment_3) $200 - $350</th>\n",
       "      <th>history_segment_4) $350 - $500</th>\n",
       "      <th>history_segment_5) $500 - $750</th>\n",
       "      <th>history_segment_6) $750 - $1,000</th>\n",
       "      <th>history_segment_7) $1,000 +</th>\n",
       "    </tr>\n",
       "  </thead>\n",
       "  <tbody>\n",
       "    <tr>\n",
       "      <th>1</th>\n",
       "      <td>6</td>\n",
       "      <td>1</td>\n",
       "      <td>1</td>\n",
       "      <td>1</td>\n",
       "      <td>0</td>\n",
       "      <td>0</td>\n",
       "      <td>0</td>\n",
       "      <td>1</td>\n",
       "      <td>0</td>\n",
       "      <td>1</td>\n",
       "      <td>0</td>\n",
       "      <td>0</td>\n",
       "      <td>0</td>\n",
       "      <td>0</td>\n",
       "    </tr>\n",
       "    <tr>\n",
       "      <th>3</th>\n",
       "      <td>9</td>\n",
       "      <td>1</td>\n",
       "      <td>0</td>\n",
       "      <td>1</td>\n",
       "      <td>0</td>\n",
       "      <td>0</td>\n",
       "      <td>0</td>\n",
       "      <td>1</td>\n",
       "      <td>0</td>\n",
       "      <td>0</td>\n",
       "      <td>0</td>\n",
       "      <td>1</td>\n",
       "      <td>0</td>\n",
       "      <td>0</td>\n",
       "    </tr>\n",
       "    <tr>\n",
       "      <th>8</th>\n",
       "      <td>9</td>\n",
       "      <td>1</td>\n",
       "      <td>1</td>\n",
       "      <td>1</td>\n",
       "      <td>0</td>\n",
       "      <td>0</td>\n",
       "      <td>1</td>\n",
       "      <td>0</td>\n",
       "      <td>0</td>\n",
       "      <td>0</td>\n",
       "      <td>0</td>\n",
       "      <td>1</td>\n",
       "      <td>0</td>\n",
       "      <td>0</td>\n",
       "    </tr>\n",
       "    <tr>\n",
       "      <th>13</th>\n",
       "      <td>2</td>\n",
       "      <td>0</td>\n",
       "      <td>1</td>\n",
       "      <td>0</td>\n",
       "      <td>0</td>\n",
       "      <td>1</td>\n",
       "      <td>0</td>\n",
       "      <td>1</td>\n",
       "      <td>1</td>\n",
       "      <td>0</td>\n",
       "      <td>0</td>\n",
       "      <td>0</td>\n",
       "      <td>0</td>\n",
       "      <td>0</td>\n",
       "    </tr>\n",
       "    <tr>\n",
       "      <th>14</th>\n",
       "      <td>4</td>\n",
       "      <td>0</td>\n",
       "      <td>1</td>\n",
       "      <td>1</td>\n",
       "      <td>0</td>\n",
       "      <td>0</td>\n",
       "      <td>0</td>\n",
       "      <td>0</td>\n",
       "      <td>0</td>\n",
       "      <td>1</td>\n",
       "      <td>0</td>\n",
       "      <td>0</td>\n",
       "      <td>0</td>\n",
       "      <td>0</td>\n",
       "    </tr>\n",
       "  </tbody>\n",
       "</table>\n",
       "</div>"
      ],
      "text/plain": [
       "    recency  mens  womens  newbie  zip_code_Surburban  zip_code_Urban  \\\n",
       "1         6     1       1       1                   0               0   \n",
       "3         9     1       0       1                   0               0   \n",
       "8         9     1       1       1                   0               0   \n",
       "13        2     0       1       0                   0               1   \n",
       "14        4     0       1       1                   0               0   \n",
       "\n",
       "    channel_Phone  channel_Web  history_segment_2) $100 - $200  \\\n",
       "1               0            1                               0   \n",
       "3               0            1                               0   \n",
       "8               1            0                               0   \n",
       "13              0            1                               1   \n",
       "14              0            0                               0   \n",
       "\n",
       "    history_segment_3) $200 - $350  history_segment_4) $350 - $500  \\\n",
       "1                                1                               0   \n",
       "3                                0                               0   \n",
       "8                                0                               0   \n",
       "13                               0                               0   \n",
       "14                               1                               0   \n",
       "\n",
       "    history_segment_5) $500 - $750  history_segment_6) $750 - $1,000  \\\n",
       "1                                0                                 0   \n",
       "3                                1                                 0   \n",
       "8                                1                                 0   \n",
       "13                               0                                 0   \n",
       "14                               0                                 0   \n",
       "\n",
       "    history_segment_7) $1,000 +  \n",
       "1                             0  \n",
       "3                             0  \n",
       "8                             0  \n",
       "13                            0  \n",
       "14                            0  "
      ]
     },
     "execution_count": 358,
     "metadata": {},
     "output_type": "execute_result"
    }
   ],
   "source": [
    "X = df_processed[feature_cols].drop('history',axis=1)\n",
    "X.head()"
   ]
  },
  {
   "cell_type": "code",
   "execution_count": 359,
   "id": "ddd701c6-5694-4a02-aeb7-5c1891e0d94d",
   "metadata": {},
   "outputs": [
    {
     "data": {
      "text/plain": [
       "1        0\n",
       "3        1\n",
       "8        1\n",
       "13       1\n",
       "14       0\n",
       "        ..\n",
       "63994    1\n",
       "63995    1\n",
       "63996    1\n",
       "63997    1\n",
       "63999    1\n",
       "Name: treatment, Length: 42613, dtype: int64"
      ]
     },
     "execution_count": 359,
     "metadata": {},
     "output_type": "execute_result"
    }
   ],
   "source": [
    "T = df_processed['treatment']  # 1 = Mens E-Mail, 0 = No E-Mail\n",
    "T"
   ]
  },
  {
   "cell_type": "code",
   "execution_count": 360,
   "id": "c98dff55-e11b-4e58-8f9c-6173042faf78",
   "metadata": {},
   "outputs": [
    {
     "data": {
      "text/plain": [
       "1        0\n",
       "3        0\n",
       "8        0\n",
       "13       0\n",
       "14       0\n",
       "        ..\n",
       "63994    0\n",
       "63995    0\n",
       "63996    0\n",
       "63997    0\n",
       "63999    0\n",
       "Name: conversion, Length: 42613, dtype: int64"
      ]
     },
     "execution_count": 360,
     "metadata": {},
     "output_type": "execute_result"
    }
   ],
   "source": [
    "Y = df_processed[label_col]    # conversion label\n",
    "Y"
   ]
  },
  {
   "cell_type": "markdown",
   "id": "c13f1a19-8b35-4d5b-ba80-abb1151f0817",
   "metadata": {},
   "source": [
    "### 3.1 Naive"
   ]
  },
  {
   "cell_type": "code",
   "execution_count": 361,
   "id": "284c22fb-9a76-4abc-9387-aa4140f3d80d",
   "metadata": {},
   "outputs": [
    {
     "data": {
      "text/plain": [
       "0.006805006519615695"
      ]
     },
     "execution_count": 361,
     "metadata": {},
     "output_type": "execute_result"
    }
   ],
   "source": [
    "ate_naive = Y[T == 1].mean() - Y[T == 0].mean()\n",
    "ate_naive"
   ]
  },
  {
   "cell_type": "markdown",
   "id": "d8676ccf-4af3-487d-9f14-065e5db3a863",
   "metadata": {},
   "source": [
    "### 3.2 线性回归调整"
   ]
  },
  {
   "cell_type": "code",
   "execution_count": 362,
   "id": "e4c1cf87-3a23-4396-9075-ff89774bc92e",
   "metadata": {},
   "outputs": [],
   "source": [
    "from sklearn.linear_model import LogisticRegression\n",
    "from sklearn.ensemble import GradientBoostingClassifier\n",
    "from sklearn.model_selection import train_test_split\n",
    "import statsmodels.api as sm"
   ]
  },
  {
   "cell_type": "code",
   "execution_count": 363,
   "id": "81809df0-f5d8-4803-9838-b5d680316011",
   "metadata": {},
   "outputs": [
    {
     "name": "stdout",
     "output_type": "stream",
     "text": [
      "Optimization terminated successfully.\n",
      "         Current function value: 0.050160\n",
      "         Iterations 9\n"
     ]
    },
    {
     "data": {
      "text/html": [
       "<table class=\"simpletable\">\n",
       "<caption>Logit Regression Results</caption>\n",
       "<tr>\n",
       "  <th>Dep. Variable:</th>      <td>conversion</td>    <th>  No. Observations:  </th>  <td> 42613</td>  \n",
       "</tr>\n",
       "<tr>\n",
       "  <th>Model:</th>                 <td>Logit</td>      <th>  Df Residuals:      </th>  <td> 42597</td>  \n",
       "</tr>\n",
       "<tr>\n",
       "  <th>Method:</th>                 <td>MLE</td>       <th>  Df Model:          </th>  <td>    15</td>  \n",
       "</tr>\n",
       "<tr>\n",
       "  <th>Date:</th>            <td>Wed, 30 Apr 2025</td> <th>  Pseudo R-squ.:     </th>  <td>0.03461</td> \n",
       "</tr>\n",
       "<tr>\n",
       "  <th>Time:</th>                <td>21:57:39</td>     <th>  Log-Likelihood:    </th> <td> -2137.5</td> \n",
       "</tr>\n",
       "<tr>\n",
       "  <th>converged:</th>             <td>True</td>       <th>  LL-Null:           </th> <td> -2214.1</td> \n",
       "</tr>\n",
       "<tr>\n",
       "  <th>Covariance Type:</th>     <td>nonrobust</td>    <th>  LLR p-value:       </th> <td>5.425e-25</td>\n",
       "</tr>\n",
       "</table>\n",
       "<table class=\"simpletable\">\n",
       "<tr>\n",
       "                  <td></td>                    <th>coef</th>     <th>std err</th>      <th>z</th>      <th>P>|z|</th>  <th>[0.025</th>    <th>0.975]</th>  \n",
       "</tr>\n",
       "<tr>\n",
       "  <th>const</th>                            <td>   -5.1975</td> <td>    0.287</td> <td>  -18.085</td> <td> 0.000</td> <td>   -5.761</td> <td>   -4.634</td>\n",
       "</tr>\n",
       "<tr>\n",
       "  <th>recency</th>                          <td>   -0.0629</td> <td>    0.016</td> <td>   -4.004</td> <td> 0.000</td> <td>   -0.094</td> <td>   -0.032</td>\n",
       "</tr>\n",
       "<tr>\n",
       "  <th>mens</th>                             <td>    0.4377</td> <td>    0.157</td> <td>    2.780</td> <td> 0.005</td> <td>    0.129</td> <td>    0.746</td>\n",
       "</tr>\n",
       "<tr>\n",
       "  <th>womens</th>                           <td>    0.3796</td> <td>    0.156</td> <td>    2.433</td> <td> 0.015</td> <td>    0.074</td> <td>    0.685</td>\n",
       "</tr>\n",
       "<tr>\n",
       "  <th>newbie</th>                           <td>   -0.5209</td> <td>    0.126</td> <td>   -4.131</td> <td> 0.000</td> <td>   -0.768</td> <td>   -0.274</td>\n",
       "</tr>\n",
       "<tr>\n",
       "  <th>zip_code_Surburban</th>               <td>   -0.2185</td> <td>    0.144</td> <td>   -1.522</td> <td> 0.128</td> <td>   -0.500</td> <td>    0.063</td>\n",
       "</tr>\n",
       "<tr>\n",
       "  <th>zip_code_Urban</th>                   <td>   -0.1970</td> <td>    0.145</td> <td>   -1.355</td> <td> 0.175</td> <td>   -0.482</td> <td>    0.088</td>\n",
       "</tr>\n",
       "<tr>\n",
       "  <th>channel_Phone</th>                    <td>    0.0318</td> <td>    0.164</td> <td>    0.193</td> <td> 0.847</td> <td>   -0.291</td> <td>    0.354</td>\n",
       "</tr>\n",
       "<tr>\n",
       "  <th>channel_Web</th>                      <td>    0.1763</td> <td>    0.161</td> <td>    1.092</td> <td> 0.275</td> <td>   -0.140</td> <td>    0.492</td>\n",
       "</tr>\n",
       "<tr>\n",
       "  <th>history_segment_2) $100 - $200</th>   <td>   -0.0702</td> <td>    0.162</td> <td>   -0.434</td> <td> 0.664</td> <td>   -0.387</td> <td>    0.247</td>\n",
       "</tr>\n",
       "<tr>\n",
       "  <th>history_segment_3) $200 - $350</th>   <td>    0.3129</td> <td>    0.154</td> <td>    2.026</td> <td> 0.043</td> <td>    0.010</td> <td>    0.616</td>\n",
       "</tr>\n",
       "<tr>\n",
       "  <th>history_segment_4) $350 - $500</th>   <td>    0.5836</td> <td>    0.174</td> <td>    3.359</td> <td> 0.001</td> <td>    0.243</td> <td>    0.924</td>\n",
       "</tr>\n",
       "<tr>\n",
       "  <th>history_segment_5) $500 - $750</th>   <td>    0.4266</td> <td>    0.237</td> <td>    1.802</td> <td> 0.071</td> <td>   -0.037</td> <td>    0.891</td>\n",
       "</tr>\n",
       "<tr>\n",
       "  <th>history_segment_6) $750 - $1,000</th> <td>    0.7942</td> <td>    0.282</td> <td>    2.821</td> <td> 0.005</td> <td>    0.242</td> <td>    1.346</td>\n",
       "</tr>\n",
       "<tr>\n",
       "  <th>history_segment_7) $1,000 +</th>      <td>    0.9914</td> <td>    0.297</td> <td>    3.341</td> <td> 0.001</td> <td>    0.410</td> <td>    1.573</td>\n",
       "</tr>\n",
       "<tr>\n",
       "  <th>treatment</th>                        <td>    0.7876</td> <td>    0.110</td> <td>    7.170</td> <td> 0.000</td> <td>    0.572</td> <td>    1.003</td>\n",
       "</tr>\n",
       "</table>"
      ],
      "text/latex": [
       "\\begin{center}\n",
       "\\begin{tabular}{lclc}\n",
       "\\toprule\n",
       "\\textbf{Dep. Variable:}                       &    conversion    & \\textbf{  No. Observations:  } &    42613    \\\\\n",
       "\\textbf{Model:}                               &      Logit       & \\textbf{  Df Residuals:      } &    42597    \\\\\n",
       "\\textbf{Method:}                              &       MLE        & \\textbf{  Df Model:          } &       15    \\\\\n",
       "\\textbf{Date:}                                & Wed, 30 Apr 2025 & \\textbf{  Pseudo R-squ.:     } &  0.03461    \\\\\n",
       "\\textbf{Time:}                                &     21:57:39     & \\textbf{  Log-Likelihood:    } &   -2137.5   \\\\\n",
       "\\textbf{converged:}                           &       True       & \\textbf{  LL-Null:           } &   -2214.1   \\\\\n",
       "\\textbf{Covariance Type:}                     &    nonrobust     & \\textbf{  LLR p-value:       } & 5.425e-25   \\\\\n",
       "\\bottomrule\n",
       "\\end{tabular}\n",
       "\\begin{tabular}{lcccccc}\n",
       "                                              & \\textbf{coef} & \\textbf{std err} & \\textbf{z} & \\textbf{P$> |$z$|$} & \\textbf{[0.025} & \\textbf{0.975]}  \\\\\n",
       "\\midrule\n",
       "\\textbf{const}                                &      -5.1975  &        0.287     &   -18.085  &         0.000        &       -5.761    &       -4.634     \\\\\n",
       "\\textbf{recency}                              &      -0.0629  &        0.016     &    -4.004  &         0.000        &       -0.094    &       -0.032     \\\\\n",
       "\\textbf{mens}                                 &       0.4377  &        0.157     &     2.780  &         0.005        &        0.129    &        0.746     \\\\\n",
       "\\textbf{womens}                               &       0.3796  &        0.156     &     2.433  &         0.015        &        0.074    &        0.685     \\\\\n",
       "\\textbf{newbie}                               &      -0.5209  &        0.126     &    -4.131  &         0.000        &       -0.768    &       -0.274     \\\\\n",
       "\\textbf{zip\\_code\\_Surburban}                 &      -0.2185  &        0.144     &    -1.522  &         0.128        &       -0.500    &        0.063     \\\\\n",
       "\\textbf{zip\\_code\\_Urban}                     &      -0.1970  &        0.145     &    -1.355  &         0.175        &       -0.482    &        0.088     \\\\\n",
       "\\textbf{channel\\_Phone}                       &       0.0318  &        0.164     &     0.193  &         0.847        &       -0.291    &        0.354     \\\\\n",
       "\\textbf{channel\\_Web}                         &       0.1763  &        0.161     &     1.092  &         0.275        &       -0.140    &        0.492     \\\\\n",
       "\\textbf{history\\_segment\\_2) \\$100 - \\$200}   &      -0.0702  &        0.162     &    -0.434  &         0.664        &       -0.387    &        0.247     \\\\\n",
       "\\textbf{history\\_segment\\_3) \\$200 - \\$350}   &       0.3129  &        0.154     &     2.026  &         0.043        &        0.010    &        0.616     \\\\\n",
       "\\textbf{history\\_segment\\_4) \\$350 - \\$500}   &       0.5836  &        0.174     &     3.359  &         0.001        &        0.243    &        0.924     \\\\\n",
       "\\textbf{history\\_segment\\_5) \\$500 - \\$750}   &       0.4266  &        0.237     &     1.802  &         0.071        &       -0.037    &        0.891     \\\\\n",
       "\\textbf{history\\_segment\\_6) \\$750 - \\$1,000} &       0.7942  &        0.282     &     2.821  &         0.005        &        0.242    &        1.346     \\\\\n",
       "\\textbf{history\\_segment\\_7) \\$1,000 +}       &       0.9914  &        0.297     &     3.341  &         0.001        &        0.410    &        1.573     \\\\\n",
       "\\textbf{treatment}                            &       0.7876  &        0.110     &     7.170  &         0.000        &        0.572    &        1.003     \\\\\n",
       "\\bottomrule\n",
       "\\end{tabular}\n",
       "%\\caption{Logit Regression Results}\n",
       "\\end{center}"
      ],
      "text/plain": [
       "<class 'statsmodels.iolib.summary.Summary'>\n",
       "\"\"\"\n",
       "                           Logit Regression Results                           \n",
       "==============================================================================\n",
       "Dep. Variable:             conversion   No. Observations:                42613\n",
       "Model:                          Logit   Df Residuals:                    42597\n",
       "Method:                           MLE   Df Model:                           15\n",
       "Date:                Wed, 30 Apr 2025   Pseudo R-squ.:                 0.03461\n",
       "Time:                        21:57:39   Log-Likelihood:                -2137.5\n",
       "converged:                       True   LL-Null:                       -2214.1\n",
       "Covariance Type:            nonrobust   LLR p-value:                 5.425e-25\n",
       "====================================================================================================\n",
       "                                       coef    std err          z      P>|z|      [0.025      0.975]\n",
       "----------------------------------------------------------------------------------------------------\n",
       "const                               -5.1975      0.287    -18.085      0.000      -5.761      -4.634\n",
       "recency                             -0.0629      0.016     -4.004      0.000      -0.094      -0.032\n",
       "mens                                 0.4377      0.157      2.780      0.005       0.129       0.746\n",
       "womens                               0.3796      0.156      2.433      0.015       0.074       0.685\n",
       "newbie                              -0.5209      0.126     -4.131      0.000      -0.768      -0.274\n",
       "zip_code_Surburban                  -0.2185      0.144     -1.522      0.128      -0.500       0.063\n",
       "zip_code_Urban                      -0.1970      0.145     -1.355      0.175      -0.482       0.088\n",
       "channel_Phone                        0.0318      0.164      0.193      0.847      -0.291       0.354\n",
       "channel_Web                          0.1763      0.161      1.092      0.275      -0.140       0.492\n",
       "history_segment_2) $100 - $200      -0.0702      0.162     -0.434      0.664      -0.387       0.247\n",
       "history_segment_3) $200 - $350       0.3129      0.154      2.026      0.043       0.010       0.616\n",
       "history_segment_4) $350 - $500       0.5836      0.174      3.359      0.001       0.243       0.924\n",
       "history_segment_5) $500 - $750       0.4266      0.237      1.802      0.071      -0.037       0.891\n",
       "history_segment_6) $750 - $1,000     0.7942      0.282      2.821      0.005       0.242       1.346\n",
       "history_segment_7) $1,000 +          0.9914      0.297      3.341      0.001       0.410       1.573\n",
       "treatment                            0.7876      0.110      7.170      0.000       0.572       1.003\n",
       "====================================================================================================\n",
       "\"\"\""
      ]
     },
     "execution_count": 363,
     "metadata": {},
     "output_type": "execute_result"
    }
   ],
   "source": [
    "# 添加处理变量和截距项\n",
    "X_reg = sm.add_constant(pd.concat([X, T], axis=1))\n",
    "\n",
    "# 拟合逻辑回归模型\n",
    "model = sm.Logit(Y, X_reg).fit()\n",
    "model.summary()"
   ]
  },
  {
   "cell_type": "code",
   "execution_count": 364,
   "id": "72e6b6dd-54ea-4184-999b-c6d0986ae318",
   "metadata": {},
   "outputs": [
    {
     "data": {
      "text/plain": [
       "0.787607547055733"
      ]
     },
     "execution_count": 364,
     "metadata": {},
     "output_type": "execute_result"
    }
   ],
   "source": [
    "ate_reg = model.params['treatment']  # 处理变量的系数即为 ATE\n",
    "ate_reg"
   ]
  },
  {
   "cell_type": "code",
   "execution_count": 365,
   "id": "f2777643-b797-4406-ab4f-8f06d9aff564",
   "metadata": {},
   "outputs": [
    {
     "data": {
      "text/html": [
       "<table class=\"simpletable\">\n",
       "<caption>Logit Marginal Effects</caption>\n",
       "<tr>\n",
       "  <th>Dep. Variable:</th> <td>conversion</td>\n",
       "</tr>\n",
       "<tr>\n",
       "  <th>Method:</th>           <td>dydx</td>   \n",
       "</tr>\n",
       "<tr>\n",
       "  <th>At:</th>              <td>overall</td> \n",
       "</tr>\n",
       "</table>\n",
       "<table class=\"simpletable\">\n",
       "<tr>\n",
       "                  <th></th>                    <th>dy/dx</th>    <th>std err</th>      <th>z</th>      <th>P>|z|</th>  <th>[0.025</th>    <th>0.975]</th>  \n",
       "</tr>\n",
       "<tr>\n",
       "  <th>recency</th>                          <td>   -0.0006</td> <td>    0.000</td> <td>   -3.931</td> <td> 0.000</td> <td>   -0.001</td> <td>   -0.000</td>\n",
       "</tr>\n",
       "<tr>\n",
       "  <th>mens</th>                             <td>    0.0039</td> <td>    0.001</td> <td>    2.756</td> <td> 0.006</td> <td>    0.001</td> <td>    0.007</td>\n",
       "</tr>\n",
       "<tr>\n",
       "  <th>womens</th>                           <td>    0.0034</td> <td>    0.001</td> <td>    2.417</td> <td> 0.016</td> <td>    0.001</td> <td>    0.006</td>\n",
       "</tr>\n",
       "<tr>\n",
       "  <th>newbie</th>                           <td>   -0.0047</td> <td>    0.001</td> <td>   -4.050</td> <td> 0.000</td> <td>   -0.007</td> <td>   -0.002</td>\n",
       "</tr>\n",
       "<tr>\n",
       "  <th>zip_code_Surburban</th>               <td>   -0.0020</td> <td>    0.001</td> <td>   -1.518</td> <td> 0.129</td> <td>   -0.005</td> <td>    0.001</td>\n",
       "</tr>\n",
       "<tr>\n",
       "  <th>zip_code_Urban</th>                   <td>   -0.0018</td> <td>    0.001</td> <td>   -1.352</td> <td> 0.176</td> <td>   -0.004</td> <td>    0.001</td>\n",
       "</tr>\n",
       "<tr>\n",
       "  <th>channel_Phone</th>                    <td>    0.0003</td> <td>    0.001</td> <td>    0.193</td> <td> 0.847</td> <td>   -0.003</td> <td>    0.003</td>\n",
       "</tr>\n",
       "<tr>\n",
       "  <th>channel_Web</th>                      <td>    0.0016</td> <td>    0.001</td> <td>    1.091</td> <td> 0.275</td> <td>   -0.001</td> <td>    0.004</td>\n",
       "</tr>\n",
       "<tr>\n",
       "  <th>history_segment_2) $100 - $200</th>   <td>   -0.0006</td> <td>    0.001</td> <td>   -0.434</td> <td> 0.664</td> <td>   -0.003</td> <td>    0.002</td>\n",
       "</tr>\n",
       "<tr>\n",
       "  <th>history_segment_3) $200 - $350</th>   <td>    0.0028</td> <td>    0.001</td> <td>    2.016</td> <td> 0.044</td> <td> 7.85e-05</td> <td>    0.006</td>\n",
       "</tr>\n",
       "<tr>\n",
       "  <th>history_segment_4) $350 - $500</th>   <td>    0.0053</td> <td>    0.002</td> <td>    3.316</td> <td> 0.001</td> <td>    0.002</td> <td>    0.008</td>\n",
       "</tr>\n",
       "<tr>\n",
       "  <th>history_segment_5) $500 - $750</th>   <td>    0.0038</td> <td>    0.002</td> <td>    1.795</td> <td> 0.073</td> <td>   -0.000</td> <td>    0.008</td>\n",
       "</tr>\n",
       "<tr>\n",
       "  <th>history_segment_6) $750 - $1,000</th> <td>    0.0072</td> <td>    0.003</td> <td>    2.795</td> <td> 0.005</td> <td>    0.002</td> <td>    0.012</td>\n",
       "</tr>\n",
       "<tr>\n",
       "  <th>history_segment_7) $1,000 +</th>      <td>    0.0089</td> <td>    0.003</td> <td>    3.299</td> <td> 0.001</td> <td>    0.004</td> <td>    0.014</td>\n",
       "</tr>\n",
       "<tr>\n",
       "  <th>treatment</th>                        <td>    0.0071</td> <td>    0.001</td> <td>    6.772</td> <td> 0.000</td> <td>    0.005</td> <td>    0.009</td>\n",
       "</tr>\n",
       "</table>"
      ],
      "text/latex": [
       "\\begin{center}\n",
       "\\begin{tabular}{lc}\n",
       "\\toprule\n",
       "\\textbf{Dep. Variable:}                       &   conversion    \\\\\n",
       "\\textbf{Method:}                              &      dydx       \\\\\n",
       "\\textbf{At:}                                  &    overall      \\\\\n",
       "\\bottomrule\n",
       "\\end{tabular}\n",
       "\\begin{tabular}{ccccccc}\n",
       "                  \\textbf{}                   & \\textbf{dy/dx} & \\textbf{std err} & \\textbf{z} & \\textbf{P$> |$z$|$} & \\textbf{[0.025} & \\textbf{0.975]}  \\\\\n",
       "\\midrule\n",
       "\\bottomrule\n",
       "\\end{tabular}\n",
       "\\begin{tabular}{lcccccc}\n",
       "\\textbf{recency}                              &      -0.0006   &        0.000     &    -3.931  &         0.000        &       -0.001    &       -0.000     \\\\\n",
       "\\textbf{mens}                                 &       0.0039   &        0.001     &     2.756  &         0.006        &        0.001    &        0.007     \\\\\n",
       "\\textbf{womens}                               &       0.0034   &        0.001     &     2.417  &         0.016        &        0.001    &        0.006     \\\\\n",
       "\\textbf{newbie}                               &      -0.0047   &        0.001     &    -4.050  &         0.000        &       -0.007    &       -0.002     \\\\\n",
       "\\textbf{zip\\_code\\_Surburban}                 &      -0.0020   &        0.001     &    -1.518  &         0.129        &       -0.005    &        0.001     \\\\\n",
       "\\textbf{zip\\_code\\_Urban}                     &      -0.0018   &        0.001     &    -1.352  &         0.176        &       -0.004    &        0.001     \\\\\n",
       "\\textbf{channel\\_Phone}                       &       0.0003   &        0.001     &     0.193  &         0.847        &       -0.003    &        0.003     \\\\\n",
       "\\textbf{channel\\_Web}                         &       0.0016   &        0.001     &     1.091  &         0.275        &       -0.001    &        0.004     \\\\\n",
       "\\textbf{history\\_segment\\_2) \\$100 - \\$200}   &      -0.0006   &        0.001     &    -0.434  &         0.664        &       -0.003    &        0.002     \\\\\n",
       "\\textbf{history\\_segment\\_3) \\$200 - \\$350}   &       0.0028   &        0.001     &     2.016  &         0.044        &     7.85e-05    &        0.006     \\\\\n",
       "\\textbf{history\\_segment\\_4) \\$350 - \\$500}   &       0.0053   &        0.002     &     3.316  &         0.001        &        0.002    &        0.008     \\\\\n",
       "\\textbf{history\\_segment\\_5) \\$500 - \\$750}   &       0.0038   &        0.002     &     1.795  &         0.073        &       -0.000    &        0.008     \\\\\n",
       "\\textbf{history\\_segment\\_6) \\$750 - \\$1,000} &       0.0072   &        0.003     &     2.795  &         0.005        &        0.002    &        0.012     \\\\\n",
       "\\textbf{history\\_segment\\_7) \\$1,000 +}       &       0.0089   &        0.003     &     3.299  &         0.001        &        0.004    &        0.014     \\\\\n",
       "\\textbf{treatment}                            &       0.0071   &        0.001     &     6.772  &         0.000        &        0.005    &        0.009     \\\\\n",
       "\\bottomrule\n",
       "\\end{tabular}\n",
       "%\\caption{Logit Marginal Effects}\n",
       "\\end{center}"
      ],
      "text/plain": [
       "<class 'statsmodels.iolib.summary.Summary'>\n",
       "\"\"\"\n",
       "        Logit Marginal Effects       \n",
       "=====================================\n",
       "Dep. Variable:             conversion\n",
       "Method:                          dydx\n",
       "At:                           overall\n",
       "====================================================================================================\n",
       "                                      dy/dx    std err          z      P>|z|      [0.025      0.975]\n",
       "----------------------------------------------------------------------------------------------------\n",
       "recency                             -0.0006      0.000     -3.931      0.000      -0.001      -0.000\n",
       "mens                                 0.0039      0.001      2.756      0.006       0.001       0.007\n",
       "womens                               0.0034      0.001      2.417      0.016       0.001       0.006\n",
       "newbie                              -0.0047      0.001     -4.050      0.000      -0.007      -0.002\n",
       "zip_code_Surburban                  -0.0020      0.001     -1.518      0.129      -0.005       0.001\n",
       "zip_code_Urban                      -0.0018      0.001     -1.352      0.176      -0.004       0.001\n",
       "channel_Phone                        0.0003      0.001      0.193      0.847      -0.003       0.003\n",
       "channel_Web                          0.0016      0.001      1.091      0.275      -0.001       0.004\n",
       "history_segment_2) $100 - $200      -0.0006      0.001     -0.434      0.664      -0.003       0.002\n",
       "history_segment_3) $200 - $350       0.0028      0.001      2.016      0.044    7.85e-05       0.006\n",
       "history_segment_4) $350 - $500       0.0053      0.002      3.316      0.001       0.002       0.008\n",
       "history_segment_5) $500 - $750       0.0038      0.002      1.795      0.073      -0.000       0.008\n",
       "history_segment_6) $750 - $1,000     0.0072      0.003      2.795      0.005       0.002       0.012\n",
       "history_segment_7) $1,000 +          0.0089      0.003      3.299      0.001       0.004       0.014\n",
       "treatment                            0.0071      0.001      6.772      0.000       0.005       0.009\n",
       "====================================================================================================\n",
       "\"\"\""
      ]
     },
     "execution_count": 365,
     "metadata": {},
     "output_type": "execute_result"
    }
   ],
   "source": [
    "# 转换为概率差异（需要边际效应）\n",
    "margeff = model.get_margeff()\n",
    "margeff.summary()"
   ]
  },
  {
   "cell_type": "code",
   "execution_count": 366,
   "id": "07eb8a66-6f78-4104-916c-d26103297bdb",
   "metadata": {},
   "outputs": [
    {
     "name": "stdout",
     "output_type": "stream",
     "text": [
      "                                  变量       VIF\n",
      "0                            recency  3.567849\n",
      "1                               mens  5.427955\n",
      "2                             womens  5.422627\n",
      "3                             newbie  2.348303\n",
      "4                 zip_code_Surburban  3.484164\n",
      "5                     zip_code_Urban  3.215796\n",
      "6                      channel_Phone  4.088128\n",
      "7                        channel_Web  4.135677\n",
      "8     history_segment_2) $100 - $200  1.570634\n",
      "9     history_segment_3) $200 - $350  1.707543\n",
      "10    history_segment_4) $350 - $500  1.427669\n",
      "11    history_segment_5) $500 - $750  1.538574\n",
      "12  history_segment_6) $750 - $1,000  1.245658\n",
      "13       history_segment_7) $1,000 +  1.193573\n"
     ]
    }
   ],
   "source": [
    "from statsmodels.stats.outliers_influence import variance_inflation_factor\n",
    "vif = [variance_inflation_factor(X.values, i) for i in range(X.shape[1])]\n",
    "print(pd.DataFrame({'变量': X.columns, 'VIF': vif}))"
   ]
  },
  {
   "cell_type": "markdown",
   "id": "941720e9-4ef4-49a2-8dd3-a6b56caaa90d",
   "metadata": {},
   "source": [
    "### 3.3 倾向得分匹配 (PSM)"
   ]
  },
  {
   "cell_type": "code",
   "execution_count": 369,
   "id": "71e076c8-1ff7-4be8-ac3b-f381b7f74d2a",
   "metadata": {},
   "outputs": [
    {
     "data": {
      "text/plain": [
       "array([0.51769955, 0.50313662, 0.50400556, ..., 0.50213317, 0.49939981,\n",
       "       0.49581548])"
      ]
     },
     "execution_count": 369,
     "metadata": {},
     "output_type": "execute_result"
    }
   ],
   "source": [
    "from sklearn.neighbors import NearestNeighbors\n",
    "\n",
    "# 估计倾向得分（使用逻辑回归）\n",
    "ps_model = LogisticRegression().fit(X, T)\n",
    "ps = ps_model.predict_proba(X)[:, 1] # 倾向得分\n",
    "ps"
   ]
  },
  {
   "cell_type": "code",
   "execution_count": 370,
   "id": "7fab101b-bcb5-4dac-a090-fdf6e67aec31",
   "metadata": {},
   "outputs": [
    {
     "name": "stdout",
     "output_type": "stream",
     "text": [
      "PSM ATE: 0.0098\n"
     ]
    }
   ],
   "source": [
    "# 匹配处理组和对照组（最近邻匹配）\n",
    "treated = np.where(T == 1)[0]\n",
    "control = np.where(T == 0)[0]\n",
    "\n",
    "nbrs = NearestNeighbors(n_neighbors=1).fit(ps[control].reshape(-1, 1))\n",
    "distances, indices = nbrs.kneighbors(ps[treated].reshape(-1, 1))\n",
    "\n",
    "# 计算匹配后的 ATE\n",
    "matched_control = control[indices.flatten()]\n",
    "ate_psm = Y.iloc[treated].mean() - Y.iloc[matched_control].mean()\n",
    "print(f\"PSM ATE: {ate_psm:.4f}\")"
   ]
  },
  {
   "cell_type": "code",
   "execution_count": 423,
   "id": "187502f9-4965-488c-bf97-6c40e312bff2",
   "metadata": {},
   "outputs": [
    {
     "data": {
      "image/png": "[encoded data removed]",
      "text/plain": [
       "<Figure size 640x480 with 1 Axes>"
      ]
     },
     "metadata": {},
     "output_type": "display_data"
    }
   ],
   "source": [
    "# 倾向得分分布直方图\n",
    "plt.hist(ps[T == 0], bins=30, label='Control', alpha=0.95)\n",
    "plt.hist(ps[T == 1], bins=30, label='Treated', alpha=0.5)\n",
    "plt.legend()\n",
    "plt.show()"
   ]
  },
  {
   "cell_type": "markdown",
   "id": "91f38425-dc0c-4db4-a906-991052c76dcc",
   "metadata": {},
   "source": [
    "### 3.4 IPW"
   ]
  },
  {
   "cell_type": "markdown",
   "id": "64a7e736-6b11-44c9-b040-613af36ac7e4",
   "metadata": {},
   "source": [
    "$$ATE_{ipw} = \\mathbb{E}[Y\\times\\frac{T}{e(x)}-Y\\times\\frac{1-T}{1-e(x)}]$$"
   ]
  },
  {
   "cell_type": "code",
   "execution_count": 382,
   "id": "9ba2c391-4ee3-4bb7-917b-ab193afcfecf",
   "metadata": {},
   "outputs": [
    {
     "name": "stdout",
     "output_type": "stream",
     "text": [
      "IPW ATE: 0.0068\n"
     ]
    }
   ],
   "source": [
    "ate_ipw = (Y * T / ps).mean() - (Y * (1 - T) / (1 - ps)).mean()\n",
    "print(f\"IPW ATE: {ate_ipw:.4f}\")"
   ]
  },
  {
   "cell_type": "markdown",
   "id": "0c7f021d-27d2-4db7-9c44-b5d5c74c3575",
   "metadata": {},
   "source": [
    "### 3.5 Double Robust"
   ]
  },
  {
   "cell_type": "markdown",
   "id": "fa4a8329-ed5d-4dab-9528-d9b028e0d6ec",
   "metadata": {},
   "source": [
    "$$ATE_{dr}=\\mathbb{E}[(T\\times\\frac{Y-\\hat\\mu_1(x)}{e(x)}+\\hat\\mu_1(x))-((1-T)\\times\\frac{Y-\\hat\\mu_0(x)}{1-e(x)}+\\hat\\mu_0(x))]$$"
   ]
  },
  {
   "cell_type": "code",
   "execution_count": 384,
   "id": "306af21f-91c3-4813-a71b-8314dbfad179",
   "metadata": {},
   "outputs": [
    {
     "name": "stdout",
     "output_type": "stream",
     "text": [
      "Doubly Robust ATE: 0.0069\n"
     ]
    }
   ],
   "source": [
    "# 拟合结果模型（逻辑回归）\n",
    "outcome_model = LogisticRegression().fit(X, Y)\n",
    "Y_pred_1 = outcome_model.predict_proba(X)[:, 1]  # 预测处理后的结果\n",
    "Y_pred_0 = outcome_model.predict_proba(X)[:, 0]  # 预测未处理的结果\n",
    "\n",
    "# 计算双重稳健估计量\n",
    "ate_dr = (\n",
    "    (T * (Y - Y_pred_1) / ps + Y_pred_1) -\n",
    "    ((1 - T) * (Y - Y_pred_0) / (1 - ps) + Y_pred_0)\n",
    ").mean()\n",
    "\n",
    "print(f\"Doubly Robust ATE: {ate_dr:.4f}\")"
   ]
  },
  {
   "cell_type": "markdown",
   "id": "c8afb834-4617-453e-a660-dbb8929ee8b6",
   "metadata": {},
   "source": [
    "---"
   ]
  },
  {
   "cell_type": "markdown",
   "id": "2c6793f3-d908-4c7b-9a44-c43769180b36",
   "metadata": {},
   "source": [
    "## 4. CATE Uplift 模型"
   ]
  },
  {
   "cell_type": "code",
   "execution_count": 528,
   "id": "afb0c2f2-8637-4f45-8836-2b4148e94f9d",
   "metadata": {},
   "outputs": [],
   "source": [
    "from econml.metalearners import TLearner\n",
    "from lightgbm import LGBMClassifier\n",
    "from lightgbm import LGBMRegressor\n",
    "from sklearn.model_selection import train_test_split\n",
    "from sklearn.preprocessing import StandardScaler\n",
    "\n",
    "from sklift.metrics import uplift_auc_score, qini_auc_score, uplift_at_k\n",
    "from scipy.stats import kendalltau\n",
    "\n",
    "import matplotlib.pyplot as plt\n",
    "import numpy as np\n",
    "\n",
    "import warnings\n",
    "warnings.filterwarnings(\"ignore\")"
   ]
  },
  {
   "cell_type": "code",
   "execution_count": 582,
   "id": "38068c82-6ee8-4a4b-af85-ffca99d35f6f",
   "metadata": {},
   "outputs": [],
   "source": [
    "feature_cols = [col for col in df_processed.columns if col not in ['history', 'treatment','segment', 'visit', 'conversion', 'spend']]"
   ]
  },
  {
   "cell_type": "markdown",
   "id": "cf62998c-565c-4849-95f3-4564c1d56593",
   "metadata": {},
   "source": [
    "### 4.1 S-Learner"
   ]
  },
  {
   "cell_type": "code",
   "execution_count": 583,
   "id": "bf68a175-2649-4e92-98aa-cfa3cd103596",
   "metadata": {},
   "outputs": [],
   "source": [
    "# 准备数据\n",
    "X = df_processed[feature_cols].copy()\n",
    "X['treatment'] = df_processed['treatment']  # 将 treatment 合并为一列特征\n",
    "Y = df_processed[label_col].values          # label 可为 conversion 或 spend"
   ]
  },
  {
   "cell_type": "code",
   "execution_count": 584,
   "id": "5d76856f-055b-48f2-98b2-368f9fb1c71e",
   "metadata": {},
   "outputs": [],
   "source": [
    "X_train, X_test, Y_train, Y_test = train_test_split(\n",
    "    X, Y, test_size=0.3, random_state=42\n",
    ")"
   ]
  },
  {
   "cell_type": "code",
   "execution_count": 585,
   "id": "118ec480-fa4b-439b-a0e2-05b1d3304d34",
   "metadata": {},
   "outputs": [],
   "source": [
    "scaler = StandardScaler()\n",
    "X_train_scaled = scaler.fit_transform(X_train)\n",
    "X_test_scaled = scaler.transform(X_test)"
   ]
  },
  {
   "cell_type": "code",
   "execution_count": 586,
   "id": "03ad0a97-042d-41f0-a7f5-6404f6952104",
   "metadata": {},
   "outputs": [
    {
     "name": "stdout",
     "output_type": "stream",
     "text": [
      "[LightGBM] [Info] Auto-choosing row-wise multi-threading, the overhead of testing was 0.001043 seconds.\n",
      "You can set `force_row_wise=true` to remove the overhead.\n",
      "And if memory is not enough, you can set `force_col_wise=true`.\n",
      "[LightGBM] [Info] Total Bins 55\n",
      "[LightGBM] [Info] Number of data points in the train set: 29829, number of used features: 15\n",
      "[LightGBM] [Info] Start training from score 0.008750\n"
     ]
    },
    {
     "data": {
      "text/html": [
       "<style>#sk-container-id-3 {\n",
       "  /* Definition of color scheme common for light and dark mode */\n",
       "  --sklearn-color-text: #000;\n",
       "  --sklearn-color-text-muted: #666;\n",
       "  --sklearn-color-line: gray;\n",
       "  /* Definition of color scheme for unfitted estimators */\n",
       "  --sklearn-color-unfitted-level-0: #fff5e6;\n",
       "  --sklearn-color-unfitted-level-1: #f6e4d2;\n",
       "  --sklearn-color-unfitted-level-2: #ffe0b3;\n",
       "  --sklearn-color-unfitted-level-3: chocolate;\n",
       "  /* Definition of color scheme for fitted estimators */\n",
       "  --sklearn-color-fitted-level-0: #f0f8ff;\n",
       "  --sklearn-color-fitted-level-1: #d4ebff;\n",
       "  --sklearn-color-fitted-level-2: #b3dbfd;\n",
       "  --sklearn-color-fitted-level-3: cornflowerblue;\n",
       "\n",
       "  /* Specific color for light theme */\n",
       "  --sklearn-color-text-on-default-background: var(--sg-text-color, var(--theme-code-foreground, var(--jp-content-font-color1, black)));\n",
       "  --sklearn-color-background: var(--sg-background-color, var(--theme-background, var(--jp-layout-color0, white)));\n",
       "  --sklearn-color-border-box: var(--sg-text-color, var(--theme-code-foreground, var(--jp-content-font-color1, black)));\n",
       "  --sklearn-color-icon: #696969;\n",
       "\n",
       "  @media (prefers-color-scheme: dark) {\n",
       "    /* Redefinition of color scheme for dark theme */\n",
       "    --sklearn-color-text-on-default-background: var(--sg-text-color, var(--theme-code-foreground, var(--jp-content-font-color1, white)));\n",
       "    --sklearn-color-background: var(--sg-background-color, var(--theme-background, var(--jp-layout-color0, #111)));\n",
       "    --sklearn-color-border-box: var(--sg-text-color, var(--theme-code-foreground, var(--jp-content-font-color1, white)));\n",
       "    --sklearn-color-icon: #878787;\n",
       "  }\n",
       "}\n",
       "\n",
       "#sk-container-id-3 {\n",
       "  color: var(--sklearn-color-text);\n",
       "}\n",
       "\n",
       "#sk-container-id-3 pre {\n",
       "  padding: 0;\n",
       "}\n",
       "\n",
       "#sk-container-id-3 input.sk-hidden--visually {\n",
       "  border: 0;\n",
       "  clip: rect(1px 1px 1px 1px);\n",
       "  clip: rect(1px, 1px, 1px, 1px);\n",
       "  height: 1px;\n",
       "  margin: -1px;\n",
       "  overflow: hidden;\n",
       "  padding: 0;\n",
       "  position: absolute;\n",
       "  width: 1px;\n",
       "}\n",
       "\n",
       "#sk-container-id-3 div.sk-dashed-wrapped {\n",
       "  border: 1px dashed var(--sklearn-color-line);\n",
       "  margin: 0 0.4em 0.5em 0.4em;\n",
       "  box-sizing: border-box;\n",
       "  padding-bottom: 0.4em;\n",
       "  background-color: var(--sklearn-color-background);\n",
       "}\n",
       "\n",
       "#sk-container-id-3 div.sk-container {\n",
       "  /* jupyter's `normalize.less` sets `[hidden] { display: none; }`\n",
       "     but bootstrap.min.css set `[hidden] { display: none !important; }`\n",
       "     so we also need the `!important` here to be able to override the\n",
       "     default hidden behavior on the sphinx rendered scikit-learn.org.\n",
       "     See: https://github.com/scikit-learn/scikit-learn/issues/21755 */\n",
       "  display: inline-block !important;\n",
       "  position: relative;\n",
       "}\n",
       "\n",
       "#sk-container-id-3 div.sk-text-repr-fallback {\n",
       "  display: none;\n",
       "}\n",
       "\n",
       "div.sk-parallel-item,\n",
       "div.sk-serial,\n",
       "div.sk-item {\n",
       "  /* draw centered vertical line to link estimators */\n",
       "  background-image: linear-gradient(var(--sklearn-color-text-on-default-background), var(--sklearn-color-text-on-default-background));\n",
       "  background-size: 2px 100%;\n",
       "  background-repeat: no-repeat;\n",
       "  background-position: center center;\n",
       "}\n",
       "\n",
       "/* Parallel-specific style estimator block */\n",
       "\n",
       "#sk-container-id-3 div.sk-parallel-item::after {\n",
       "  content: \"\";\n",
       "  width: 100%;\n",
       "  border-bottom: 2px solid var(--sklearn-color-text-on-default-background);\n",
       "  flex-grow: 1;\n",
       "}\n",
       "\n",
       "#sk-container-id-3 div.sk-parallel {\n",
       "  display: flex;\n",
       "  align-items: stretch;\n",
       "  justify-content: center;\n",
       "  background-color: var(--sklearn-color-background);\n",
       "  position: relative;\n",
       "}\n",
       "\n",
       "#sk-container-id-3 div.sk-parallel-item {\n",
       "  display: flex;\n",
       "  flex-direction: column;\n",
       "}\n",
       "\n",
       "#sk-container-id-3 div.sk-parallel-item:first-child::after {\n",
       "  align-self: flex-end;\n",
       "  width: 50%;\n",
       "}\n",
       "\n",
       "#sk-container-id-3 div.sk-parallel-item:last-child::after {\n",
       "  align-self: flex-start;\n",
       "  width: 50%;\n",
       "}\n",
       "\n",
       "#sk-container-id-3 div.sk-parallel-item:only-child::after {\n",
       "  width: 0;\n",
       "}\n",
       "\n",
       "/* Serial-specific style estimator block */\n",
       "\n",
       "#sk-container-id-3 div.sk-serial {\n",
       "  display: flex;\n",
       "  flex-direction: column;\n",
       "  align-items: center;\n",
       "  background-color: var(--sklearn-color-background);\n",
       "  padding-right: 1em;\n",
       "  padding-left: 1em;\n",
       "}\n",
       "\n",
       "\n",
       "/* Toggleable style: style used for estimator/Pipeline/ColumnTransformer box that is\n",
       "clickable and can be expanded/collapsed.\n",
       "- Pipeline and ColumnTransformer use this feature and define the default style\n",
       "- Estimators will overwrite some part of the style using the `sk-estimator` class\n",
       "*/\n",
       "\n",
       "/* Pipeline and ColumnTransformer style (default) */\n",
       "\n",
       "#sk-container-id-3 div.sk-toggleable {\n",
       "  /* Default theme specific background. It is overwritten whether we have a\n",
       "  specific estimator or a Pipeline/ColumnTransformer */\n",
       "  background-color: var(--sklearn-color-background);\n",
       "}\n",
       "\n",
       "/* Toggleable label */\n",
       "#sk-container-id-3 label.sk-toggleable__label {\n",
       "  cursor: pointer;\n",
       "  display: flex;\n",
       "  width: 100%;\n",
       "  margin-bottom: 0;\n",
       "  padding: 0.5em;\n",
       "  box-sizing: border-box;\n",
       "  text-align: center;\n",
       "  align-items: start;\n",
       "  justify-content: space-between;\n",
       "  gap: 0.5em;\n",
       "}\n",
       "\n",
       "#sk-container-id-3 label.sk-toggleable__label .caption {\n",
       "  font-size: 0.6rem;\n",
       "  font-weight: lighter;\n",
       "  color: var(--sklearn-color-text-muted);\n",
       "}\n",
       "\n",
       "#sk-container-id-3 label.sk-toggleable__label-arrow:before {\n",
       "  /* Arrow on the left of the label */\n",
       "  content: \"▸\";\n",
       "  float: left;\n",
       "  margin-right: 0.25em;\n",
       "  color: var(--sklearn-color-icon);\n",
       "}\n",
       "\n",
       "#sk-container-id-3 label.sk-toggleable__label-arrow:hover:before {\n",
       "  color: var(--sklearn-color-text);\n",
       "}\n",
       "\n",
       "/* Toggleable content - dropdown */\n",
       "\n",
       "#sk-container-id-3 div.sk-toggleable__content {\n",
       "  max-height: 0;\n",
       "  max-width: 0;\n",
       "  overflow: hidden;\n",
       "  text-align: left;\n",
       "  /* unfitted */\n",
       "  background-color: var(--sklearn-color-unfitted-level-0);\n",
       "}\n",
       "\n",
       "#sk-container-id-3 div.sk-toggleable__content.fitted {\n",
       "  /* fitted */\n",
       "  background-color: var(--sklearn-color-fitted-level-0);\n",
       "}\n",
       "\n",
       "#sk-container-id-3 div.sk-toggleable__content pre {\n",
       "  margin: 0.2em;\n",
       "  border-radius: 0.25em;\n",
       "  color: var(--sklearn-color-text);\n",
       "  /* unfitted */\n",
       "  background-color: var(--sklearn-color-unfitted-level-0);\n",
       "}\n",
       "\n",
       "#sk-container-id-3 div.sk-toggleable__content.fitted pre {\n",
       "  /* unfitted */\n",
       "  background-color: var(--sklearn-color-fitted-level-0);\n",
       "}\n",
       "\n",
       "#sk-container-id-3 input.sk-toggleable__control:checked~div.sk-toggleable__content {\n",
       "  /* Expand drop-down */\n",
       "  max-height: 200px;\n",
       "  max-width: 100%;\n",
       "  overflow: auto;\n",
       "}\n",
       "\n",
       "#sk-container-id-3 input.sk-toggleable__control:checked~label.sk-toggleable__label-arrow:before {\n",
       "  content: \"▾\";\n",
       "}\n",
       "\n",
       "/* Pipeline/ColumnTransformer-specific style */\n",
       "\n",
       "#sk-container-id-3 div.sk-label input.sk-toggleable__control:checked~label.sk-toggleable__label {\n",
       "  color: var(--sklearn-color-text);\n",
       "  background-color: var(--sklearn-color-unfitted-level-2);\n",
       "}\n",
       "\n",
       "#sk-container-id-3 div.sk-label.fitted input.sk-toggleable__control:checked~label.sk-toggleable__label {\n",
       "  background-color: var(--sklearn-color-fitted-level-2);\n",
       "}\n",
       "\n",
       "/* Estimator-specific style */\n",
       "\n",
       "/* Colorize estimator box */\n",
       "#sk-container-id-3 div.sk-estimator input.sk-toggleable__control:checked~label.sk-toggleable__label {\n",
       "  /* unfitted */\n",
       "  background-color: var(--sklearn-color-unfitted-level-2);\n",
       "}\n",
       "\n",
       "#sk-container-id-3 div.sk-estimator.fitted input.sk-toggleable__control:checked~label.sk-toggleable__label {\n",
       "  /* fitted */\n",
       "  background-color: var(--sklearn-color-fitted-level-2);\n",
       "}\n",
       "\n",
       "#sk-container-id-3 div.sk-label label.sk-toggleable__label,\n",
       "#sk-container-id-3 div.sk-label label {\n",
       "  /* The background is the default theme color */\n",
       "  color: var(--sklearn-color-text-on-default-background);\n",
       "}\n",
       "\n",
       "/* On hover, darken the color of the background */\n",
       "#sk-container-id-3 div.sk-label:hover label.sk-toggleable__label {\n",
       "  color: var(--sklearn-color-text);\n",
       "  background-color: var(--sklearn-color-unfitted-level-2);\n",
       "}\n",
       "\n",
       "/* Label box, darken color on hover, fitted */\n",
       "#sk-container-id-3 div.sk-label.fitted:hover label.sk-toggleable__label.fitted {\n",
       "  color: var(--sklearn-color-text);\n",
       "  background-color: var(--sklearn-color-fitted-level-2);\n",
       "}\n",
       "\n",
       "/* Estimator label */\n",
       "\n",
       "#sk-container-id-3 div.sk-label label {\n",
       "  font-family: monospace;\n",
       "  font-weight: bold;\n",
       "  display: inline-block;\n",
       "  line-height: 1.2em;\n",
       "}\n",
       "\n",
       "#sk-container-id-3 div.sk-label-container {\n",
       "  text-align: center;\n",
       "}\n",
       "\n",
       "/* Estimator-specific */\n",
       "#sk-container-id-3 div.sk-estimator {\n",
       "  font-family: monospace;\n",
       "  border: 1px dotted var(--sklearn-color-border-box);\n",
       "  border-radius: 0.25em;\n",
       "  box-sizing: border-box;\n",
       "  margin-bottom: 0.5em;\n",
       "  /* unfitted */\n",
       "  background-color: var(--sklearn-color-unfitted-level-0);\n",
       "}\n",
       "\n",
       "#sk-container-id-3 div.sk-estimator.fitted {\n",
       "  /* fitted */\n",
       "  background-color: var(--sklearn-color-fitted-level-0);\n",
       "}\n",
       "\n",
       "/* on hover */\n",
       "#sk-container-id-3 div.sk-estimator:hover {\n",
       "  /* unfitted */\n",
       "  background-color: var(--sklearn-color-unfitted-level-2);\n",
       "}\n",
       "\n",
       "#sk-container-id-3 div.sk-estimator.fitted:hover {\n",
       "  /* fitted */\n",
       "  background-color: var(--sklearn-color-fitted-level-2);\n",
       "}\n",
       "\n",
       "/* Specification for estimator info (e.g. \"i\" and \"?\") */\n",
       "\n",
       "/* Common style for \"i\" and \"?\" */\n",
       "\n",
       ".sk-estimator-doc-link,\n",
       "a:link.sk-estimator-doc-link,\n",
       "a:visited.sk-estimator-doc-link {\n",
       "  float: right;\n",
       "  font-size: smaller;\n",
       "  line-height: 1em;\n",
       "  font-family: monospace;\n",
       "  background-color: var(--sklearn-color-background);\n",
       "  border-radius: 1em;\n",
       "  height: 1em;\n",
       "  width: 1em;\n",
       "  text-decoration: none !important;\n",
       "  margin-left: 0.5em;\n",
       "  text-align: center;\n",
       "  /* unfitted */\n",
       "  border: var(--sklearn-color-unfitted-level-1) 1pt solid;\n",
       "  color: var(--sklearn-color-unfitted-level-1);\n",
       "}\n",
       "\n",
       ".sk-estimator-doc-link.fitted,\n",
       "a:link.sk-estimator-doc-link.fitted,\n",
       "a:visited.sk-estimator-doc-link.fitted {\n",
       "  /* fitted */\n",
       "  border: var(--sklearn-color-fitted-level-1) 1pt solid;\n",
       "  color: var(--sklearn-color-fitted-level-1);\n",
       "}\n",
       "\n",
       "/* On hover */\n",
       "div.sk-estimator:hover .sk-estimator-doc-link:hover,\n",
       ".sk-estimator-doc-link:hover,\n",
       "div.sk-label-container:hover .sk-estimator-doc-link:hover,\n",
       ".sk-estimator-doc-link:hover {\n",
       "  /* unfitted */\n",
       "  background-color: var(--sklearn-color-unfitted-level-3);\n",
       "  color: var(--sklearn-color-background);\n",
       "  text-decoration: none;\n",
       "}\n",
       "\n",
       "div.sk-estimator.fitted:hover .sk-estimator-doc-link.fitted:hover,\n",
       ".sk-estimator-doc-link.fitted:hover,\n",
       "div.sk-label-container:hover .sk-estimator-doc-link.fitted:hover,\n",
       ".sk-estimator-doc-link.fitted:hover {\n",
       "  /* fitted */\n",
       "  background-color: var(--sklearn-color-fitted-level-3);\n",
       "  color: var(--sklearn-color-background);\n",
       "  text-decoration: none;\n",
       "}\n",
       "\n",
       "/* Span, style for the box shown on hovering the info icon */\n",
       ".sk-estimator-doc-link span {\n",
       "  display: none;\n",
       "  z-index: 9999;\n",
       "  position: relative;\n",
       "  font-weight: normal;\n",
       "  right: .2ex;\n",
       "  padding: .5ex;\n",
       "  margin: .5ex;\n",
       "  width: min-content;\n",
       "  min-width: 20ex;\n",
       "  max-width: 50ex;\n",
       "  color: var(--sklearn-color-text);\n",
       "  box-shadow: 2pt 2pt 4pt #999;\n",
       "  /* unfitted */\n",
       "  background: var(--sklearn-color-unfitted-level-0);\n",
       "  border: .5pt solid var(--sklearn-color-unfitted-level-3);\n",
       "}\n",
       "\n",
       ".sk-estimator-doc-link.fitted span {\n",
       "  /* fitted */\n",
       "  background: var(--sklearn-color-fitted-level-0);\n",
       "  border: var(--sklearn-color-fitted-level-3);\n",
       "}\n",
       "\n",
       ".sk-estimator-doc-link:hover span {\n",
       "  display: block;\n",
       "}\n",
       "\n",
       "/* \"?\"-specific style due to the `<a>` HTML tag */\n",
       "\n",
       "#sk-container-id-3 a.estimator_doc_link {\n",
       "  float: right;\n",
       "  font-size: 1rem;\n",
       "  line-height: 1em;\n",
       "  font-family: monospace;\n",
       "  background-color: var(--sklearn-color-background);\n",
       "  border-radius: 1rem;\n",
       "  height: 1rem;\n",
       "  width: 1rem;\n",
       "  text-decoration: none;\n",
       "  /* unfitted */\n",
       "  color: var(--sklearn-color-unfitted-level-1);\n",
       "  border: var(--sklearn-color-unfitted-level-1) 1pt solid;\n",
       "}\n",
       "\n",
       "#sk-container-id-3 a.estimator_doc_link.fitted {\n",
       "  /* fitted */\n",
       "  border: var(--sklearn-color-fitted-level-1) 1pt solid;\n",
       "  color: var(--sklearn-color-fitted-level-1);\n",
       "}\n",
       "\n",
       "/* On hover */\n",
       "#sk-container-id-3 a.estimator_doc_link:hover {\n",
       "  /* unfitted */\n",
       "  background-color: var(--sklearn-color-unfitted-level-3);\n",
       "  color: var(--sklearn-color-background);\n",
       "  text-decoration: none;\n",
       "}\n",
       "\n",
       "#sk-container-id-3 a.estimator_doc_link.fitted:hover {\n",
       "  /* fitted */\n",
       "  background-color: var(--sklearn-color-fitted-level-3);\n",
       "}\n",
       "</style><div id=\"sk-container-id-3\" class=\"sk-top-container\"><div class=\"sk-text-repr-fallback\"><pre>LGBMRegressor(random_state=42)</pre><b>In a Jupyter environment, please rerun this cell to show the HTML representation or trust the notebook. <br />On GitHub, the HTML representation is unable to render, please try loading this page with nbviewer.org.</b></div><div class=\"sk-container\" hidden><div class=\"sk-item\"><div class=\"sk-estimator fitted sk-toggleable\"><input class=\"sk-toggleable__control sk-hidden--visually\" id=\"sk-estimator-id-3\" type=\"checkbox\" checked><label for=\"sk-estimator-id-3\" class=\"sk-toggleable__label fitted sk-toggleable__label-arrow\"><div><div>LGBMRegressor</div></div><div><span class=\"sk-estimator-doc-link fitted\">i<span>Fitted</span></span></div></label><div class=\"sk-toggleable__content fitted\"><pre>LGBMRegressor(random_state=42)</pre></div> </div></div></div></div>"
      ],
      "text/plain": [
       "LGBMRegressor(random_state=42)"
      ]
     },
     "execution_count": 586,
     "metadata": {},
     "output_type": "execute_result"
    }
   ],
   "source": [
    "# 拟合回归器\n",
    "model = LGBMRegressor(n_estimators=100, random_state=42)\n",
    "model.fit(X_train_scaled, Y_train)"
   ]
  },
  {
   "cell_type": "code",
   "execution_count": 587,
   "id": "546f0eaf-bebd-49e1-a36e-55fd80a0a653",
   "metadata": {},
   "outputs": [],
   "source": [
    "# 复制 X_test，并分别置为 treatment=1 和 treatment=0\n",
    "X_test_t1 = X_test.copy()\n",
    "X_test_t1['treatment'] = 1\n",
    "X_test_t0 = X_test.copy()\n",
    "X_test_t0['treatment'] = 0"
   ]
  },
  {
   "cell_type": "code",
   "execution_count": 588,
   "id": "07e28b4c-5f7a-45a5-a652-ed863ce33fd3",
   "metadata": {},
   "outputs": [],
   "source": [
    "# 标准化\n",
    "X_test_t1_scaled = scaler.transform(X_test_t1)\n",
    "X_test_t0_scaled = scaler.transform(X_test_t0)"
   ]
  },
  {
   "cell_type": "code",
   "execution_count": 589,
   "id": "2f46ca9e-651e-4ff3-afd3-208354418b1d",
   "metadata": {},
   "outputs": [
    {
     "data": {
      "text/plain": [
       "array([ 0.05739471,  0.00482128,  0.01747347, ...,  0.02322858,\n",
       "        0.01078125, -0.00952992])"
      ]
     },
     "execution_count": 589,
     "metadata": {},
     "output_type": "execute_result"
    }
   ],
   "source": [
    "# 预测 uplift\n",
    "y1_pred = model.predict(X_test_t1_scaled)\n",
    "y0_pred = model.predict(X_test_t0_scaled)\n",
    "te_pred = y1_pred - y0_pred\n",
    "te_pred"
   ]
  },
  {
   "cell_type": "code",
   "execution_count": 590,
   "id": "b65818df-bc38-4994-97e1-ae57518fb51f",
   "metadata": {},
   "outputs": [
    {
     "name": "stdout",
     "output_type": "stream",
     "text": [
      "count    12784.000000\n",
      "mean         0.007090\n",
      "std          0.014748\n",
      "min         -0.109671\n",
      "25%          0.001737\n",
      "50%          0.004229\n",
      "75%          0.009099\n",
      "max          0.146326\n",
      "dtype: float64\n"
     ]
    },
    {
     "data": {
      "image/png": "[encoded data removed]",
      "text/plain": [
       "<Figure size 1200x400 with 1 Axes>"
      ]
     },
     "metadata": {},
     "output_type": "display_data"
    }
   ],
   "source": [
    "print(pd.Series(te_pred).describe())\n",
    "plt.figure(figsize=(12,4))\n",
    "plt.hist(te_pred, bins=100, color='skyblue', alpha=0.75,edgecolor='black', linewidth=.5)\n",
    "plt.title(\"Uplift Score Distribution (S-Learner)\", fontsize=12)\n",
    "plt.xlabel(\"Estimated Treatment Effect\", fontsize=12)\n",
    "plt.ylabel(\"Count\", fontsize=12)\n",
    "plt.show()"
   ]
  },
  {
   "cell_type": "code",
   "execution_count": 591,
   "id": "db9a9ec3-bba0-4dff-8dd7-844db3b27f15",
   "metadata": {},
   "outputs": [],
   "source": [
    "def plot_uplift_by_percentile(treatment, y, uplift_score, bins=10):\n",
    "    df_plot = pd.DataFrame({\n",
    "        'treatment': treatment,\n",
    "        'y': y,\n",
    "        'uplift_score': uplift_score\n",
    "    })\n",
    "\n",
    "    df_plot['bucket'] = pd.qcut(df_plot['uplift_score'], bins, labels=False, duplicates='drop')\n",
    "\n",
    "    # 计算每个 bucket 中 treatment - control 的转化率差值（uplift）\n",
    "    uplift_per_bucket = df_plot.groupby('bucket').apply(\n",
    "        lambda d: d[d['treatment'] == 1]['y'].mean() - d[d['treatment'] == 0]['y'].mean()\n",
    "    )\n",
    "\n",
    "    # 绘图\n",
    "    plt.figure(figsize=(12, 4))\n",
    "    uplift_per_bucket.plot(kind='bar', color='skyblue', edgecolor='black')\n",
    "    plt.title('Uplift by Predicted Score Decile', fontsize=12)\n",
    "    plt.xlabel('Uplift Score Decile (Higher = More Likely to Benefit)', fontsize=12)\n",
    "    plt.ylabel('Estimated Uplift (Conversion Rate Difference)', fontsize=12)\n",
    "    plt.grid(axis='y')\n",
    "    plt.xticks(rotation=0)\n",
    "    plt.show()"
   ]
  },
  {
   "cell_type": "code",
   "execution_count": 592,
   "id": "0dacc59d-1e52-4d25-ba10-ec2f95a92296",
   "metadata": {},
   "outputs": [
    {
     "data": {
      "image/png": "[encoded data removed]",
      "text/plain": [
       "<Figure size 1200x400 with 1 Axes>"
      ]
     },
     "metadata": {},
     "output_type": "display_data"
    }
   ],
   "source": [
    "plot_uplift_by_percentile(X_test['treatment'], Y_test, te_pred)"
   ]
  },
  {
   "cell_type": "code",
   "execution_count": 593,
   "id": "27286008-aba3-400d-9e1f-1e58576c1d11",
   "metadata": {},
   "outputs": [],
   "source": [
    "def compute_lift_at_k(df, k=0.3):\n",
    "    \"\"\"\n",
    "    手动计算 uplift 模型的 Lift@k（例如前 30% 的 uplift 效果倍数）\n",
    "    \n",
    "    df: 包含 'uplift_score', 'treatment', 'y' 三列的 DataFrame\n",
    "    k: float, 表示 top K 百分比\n",
    "    \n",
    "    return: float, Lift@k 值\n",
    "    \"\"\"\n",
    "    df_sorted = df.sort_values(by='uplift_score', ascending=False).reset_index(drop=True)\n",
    "    top_k = int(len(df_sorted) * k)\n",
    "    df_top = df_sorted.iloc[:top_k]\n",
    "\n",
    "    # treatment 和 control 分开求转化率\n",
    "    treat_top = df_top[df_top['treatment'] == 1]\n",
    "    control_top = df_top[df_top['treatment'] == 0]\n",
    "\n",
    "    # 避免除以0\n",
    "    if len(control_top) == 0 or len(treat_top) == 0:\n",
    "        return np.nan\n",
    "\n",
    "    uplift_top = treat_top['y'].mean() - control_top['y'].mean()\n",
    "\n",
    "    # 全体 baseline uplift\n",
    "    treat_all = df[df['treatment'] == 1]\n",
    "    control_all = df[df['treatment'] == 0]\n",
    "    uplift_all = treat_all['y'].mean() - control_all['y'].mean()\n",
    "\n",
    "    if uplift_all == 0:\n",
    "        return np.nan\n",
    "\n",
    "    lift_at_k = uplift_top / uplift_all\n",
    "    return lift_at_k"
   ]
  },
  {
   "cell_type": "code",
   "execution_count": 594,
   "id": "778f1771-b306-4321-b2b4-7cbb1de80313",
   "metadata": {},
   "outputs": [
    {
     "name": "stdout",
     "output_type": "stream",
     "text": [
      "-0.001976527707682586 -0.05030619872900833 2.7716856551009843\n"
     ]
    }
   ],
   "source": [
    "uplift_df = pd.DataFrame({\n",
    "    'treatment': T_test,       # 0/1\n",
    "    'y': Y_test,               # 实际 label\n",
    "    'uplift_score': te_pred    # 模型预测的 uplift 分数\n",
    "})\n",
    "auuc = uplift_auc_score(y_true=uplift_df['y'],\n",
    "                        uplift=uplift_df['uplift_score'],\n",
    "                        treatment=uplift_df['treatment'])\n",
    "\n",
    "auqc = qini_auc_score(y_true=uplift_df['y'],\n",
    "                      uplift=uplift_df['uplift_score'],\n",
    "                      treatment=uplift_df['treatment'])\n",
    "\n",
    "lift_30 = compute_lift_at_k(uplift_df, k=0.3)\n",
    "\n",
    "print(auuc, auqc, lift_30)"
   ]
  },
  {
   "cell_type": "markdown",
   "id": "af145ea5-97a0-4671-bd52-6e8c1d3db5b1",
   "metadata": {},
   "source": [
    "### 4.2 T-Learner"
   ]
  },
  {
   "cell_type": "code",
   "execution_count": 595,
   "id": "37a42840-7810-480c-aba4-598e37ecb2cd",
   "metadata": {},
   "outputs": [
    {
     "data": {
      "text/plain": [
       "array([[6, 1, 1, ..., 0, 0, 0],\n",
       "       [9, 1, 0, ..., 1, 0, 0],\n",
       "       [9, 1, 1, ..., 1, 0, 0],\n",
       "       ...,\n",
       "       [5, 0, 1, ..., 0, 0, 0],\n",
       "       [6, 1, 0, ..., 0, 0, 0],\n",
       "       [1, 0, 1, ..., 0, 0, 0]], dtype=int64)"
      ]
     },
     "execution_count": 595,
     "metadata": {},
     "output_type": "execute_result"
    }
   ],
   "source": [
    "# 特征、处理、标签\n",
    "X = df_processed[feature_cols].values\n",
    "X"
   ]
  },
  {
   "cell_type": "code",
   "execution_count": 596,
   "id": "dc0793cf-d158-4e08-bb4b-360715484e6a",
   "metadata": {},
   "outputs": [
    {
     "data": {
      "text/plain": [
       "array([0, 1, 1, ..., 1, 1, 1], dtype=int64)"
      ]
     },
     "execution_count": 596,
     "metadata": {},
     "output_type": "execute_result"
    }
   ],
   "source": [
    "T = df_processed['treatment'].values  # 1 = Mens E-Mail, 0 = No E-Mail\n",
    "T"
   ]
  },
  {
   "cell_type": "code",
   "execution_count": 597,
   "id": "1e4e1097-febd-4526-8ceb-e86c723c8f63",
   "metadata": {},
   "outputs": [
    {
     "data": {
      "text/plain": [
       "array([0, 0, 0, ..., 0, 0, 0], dtype=int64)"
      ]
     },
     "execution_count": 597,
     "metadata": {},
     "output_type": "execute_result"
    }
   ],
   "source": [
    "Y = df_processed[label_col].values    # conversion label\n",
    "Y"
   ]
  },
  {
   "cell_type": "code",
   "execution_count": 598,
   "id": "f96fe1ed-81d1-4ba7-a6df-b5b01ed704b9",
   "metadata": {},
   "outputs": [],
   "source": [
    "# 拆分数据\n",
    "X_train, X_test, T_train, T_test, Y_train, Y_test = train_test_split(\n",
    "    X, T, Y, test_size=0.3, random_state=42, stratify=T)"
   ]
  },
  {
   "cell_type": "code",
   "execution_count": 599,
   "id": "3a803dae-8616-45e4-8e51-872c925e4e66",
   "metadata": {},
   "outputs": [],
   "source": [
    "scaler = StandardScaler()\n",
    "X_train = scaler.fit_transform(X_train)\n",
    "X_test = scaler.transform(X_test)"
   ]
  },
  {
   "cell_type": "code",
   "execution_count": 600,
   "id": "ad013c23-4de2-4329-bfa0-3f90835bef98",
   "metadata": {},
   "outputs": [
    {
     "name": "stdout",
     "output_type": "stream",
     "text": [
      "Conversion rate - Treated: 0.013141, Control: 0.006414, Estimated uplift: 0.006727\n"
     ]
    }
   ],
   "source": [
    "# 估计 uplift 差异\n",
    "df_test = pd.DataFrame(X_test, columns=feature_cols)\n",
    "df_test['treatment'] = T_test\n",
    "df_test['y'] = Y_test\n",
    "\n",
    "treat_mean = df_test[df_test['treatment'] == 1]['y'].mean()\n",
    "control_mean = df_test[df_test['treatment'] == 0]['y'].mean()\n",
    "print(f'Conversion rate - Treated: {treat_mean:.6f}, Control: {control_mean:.6f}, Estimated uplift: {treat_mean - control_mean:.6f}')"
   ]
  },
  {
   "cell_type": "code",
   "execution_count": 601,
   "id": "9cf4e9d7-ec44-4100-a671-34c8ac0dac61",
   "metadata": {},
   "outputs": [
    {
     "name": "stdout",
     "output_type": "stream",
     "text": [
      "[LightGBM] [Info] Auto-choosing row-wise multi-threading, the overhead of testing was 0.000671 seconds.\n",
      "You can set `force_row_wise=true` to remove the overhead.\n",
      "And if memory is not enough, you can set `force_col_wise=true`.\n",
      "[LightGBM] [Info] Total Bins 52\n",
      "[LightGBM] [Info] Number of data points in the train set: 14914, number of used features: 14\n",
      "[LightGBM] [Info] Start training from score 0.005431\n",
      "[LightGBM] [Info] Auto-choosing row-wise multi-threading, the overhead of testing was 0.000577 seconds.\n",
      "You can set `force_row_wise=true` to remove the overhead.\n",
      "And if memory is not enough, you can set `force_col_wise=true`.\n",
      "[LightGBM] [Info] Total Bins 52\n",
      "[LightGBM] [Info] Number of data points in the train set: 14915, number of used features: 14\n",
      "[LightGBM] [Info] Start training from score 0.012270\n"
     ]
    }
   ],
   "source": [
    "# 初始化 T-Learner：控制组和处理组用两个 LGBM\n",
    "model = TLearner(models=LGBMRegressor(n_estimators=100, random_state=42))\n",
    "model.fit(Y=Y_train, T=T_train, X=X_train)\n",
    "te_pred = model.effect(X_test)"
   ]
  },
  {
   "cell_type": "code",
   "execution_count": 602,
   "id": "887bf6b8-2481-4e84-9c0e-cd7030a15163",
   "metadata": {},
   "outputs": [
    {
     "data": {
      "text/plain": [
       "(array([-0.14566176, -0.13449374, -0.12954291, ...,  0.18245086,\n",
       "         0.21898366,  0.24423613]),\n",
       " array([5, 3, 1, ..., 1, 5, 2], dtype=int64))"
      ]
     },
     "execution_count": 602,
     "metadata": {},
     "output_type": "execute_result"
    }
   ],
   "source": [
    "# 预测 uplift（个体处理效应）\n",
    "te_pred = model.effect(X_test)\n",
    "np.unique(te_pred, return_counts=True)"
   ]
  },
  {
   "cell_type": "code",
   "execution_count": 603,
   "id": "89c84471-9b9b-4977-9c0b-3ecd7cd1e72f",
   "metadata": {},
   "outputs": [
    {
     "name": "stdout",
     "output_type": "stream",
     "text": [
      "count    12784.000000\n",
      "mean         0.007009\n",
      "std          0.021627\n",
      "min         -0.145662\n",
      "25%         -0.000614\n",
      "50%          0.003906\n",
      "75%          0.011640\n",
      "max          0.244236\n",
      "dtype: float64\n"
     ]
    },
    {
     "data": {
      "image/png": "[encoded data removed]",
      "text/plain": [
       "<Figure size 1200x400 with 1 Axes>"
      ]
     },
     "metadata": {},
     "output_type": "display_data"
    }
   ],
   "source": [
    "print(pd.Series(te_pred).describe())\n",
    "plt.figure(figsize=(12,4))\n",
    "plt.hist(te_pred, bins=100, color='skyblue', alpha=0.75,edgecolor='black', linewidth=.5)\n",
    "plt.title(\"Uplift Score Distribution (T-Learner)\", fontsize=12)\n",
    "plt.xlabel(\"Estimated Treatment Effect\", fontsize=12)\n",
    "plt.ylabel(\"Count\", fontsize=12)\n",
    "plt.show()"
   ]
  },
  {
   "cell_type": "code",
   "execution_count": 604,
   "id": "268444d7-a368-4118-acab-6f1c43eefef9",
   "metadata": {},
   "outputs": [
    {
     "data": {
      "image/png": "[encoded data removed]",
      "text/plain": [
       "<Figure size 1200x400 with 1 Axes>"
      ]
     },
     "metadata": {},
     "output_type": "display_data"
    }
   ],
   "source": [
    "plot_uplift_by_percentile(T_test, Y_test, te_pred)"
   ]
  },
  {
   "cell_type": "code",
   "execution_count": 605,
   "id": "8be38306-f39e-4664-a9e7-0898fc80075c",
   "metadata": {},
   "outputs": [
    {
     "name": "stdout",
     "output_type": "stream",
     "text": [
      "0.004046050309253252 0.10587515080928288 1.7648599431287482\n"
     ]
    }
   ],
   "source": [
    "uplift_df = pd.DataFrame({\n",
    "    'treatment': T_test,       # 0/1\n",
    "    'y': Y_test,               # 实际 label\n",
    "    'uplift_score': te_pred    # 模型预测的 uplift 分数\n",
    "})\n",
    "auuc = uplift_auc_score(y_true=uplift_df['y'],\n",
    "                        uplift=uplift_df['uplift_score'],\n",
    "                        treatment=uplift_df['treatment'])\n",
    "\n",
    "auqc = qini_auc_score(y_true=uplift_df['y'],\n",
    "                      uplift=uplift_df['uplift_score'],\n",
    "                      treatment=uplift_df['treatment'])\n",
    "\n",
    "lift_30 = compute_lift_at_k(uplift_df, k=0.3)\n",
    "\n",
    "print(auuc, auqc, lift_30)"
   ]
  },
  {
   "cell_type": "markdown",
   "id": "cfb7022b-be78-4d20-a61b-5fbc94682723",
   "metadata": {},
   "source": [
    "## 4.3 X-Learner"
   ]
  },
  {
   "cell_type": "code",
   "execution_count": 606,
   "id": "6b2448f0-4f68-4ddf-83b4-91cd16326988",
   "metadata": {},
   "outputs": [],
   "source": [
    "from econml.metalearners import XLearner"
   ]
  },
  {
   "cell_type": "code",
   "execution_count": 607,
   "id": "51e9789a-b1ca-4c20-ac76-e54f9457d4a9",
   "metadata": {},
   "outputs": [],
   "source": [
    "# 使用回归器初始化 X-Learner\n",
    "base_learner = LGBMRegressor(n_estimators=100, random_state=42)\n",
    "x_learner = XLearner(models=base_learner)"
   ]
  },
  {
   "cell_type": "code",
   "execution_count": 608,
   "id": "d4188aac-72b7-425d-9ec8-d754b6585819",
   "metadata": {},
   "outputs": [
    {
     "name": "stdout",
     "output_type": "stream",
     "text": [
      "[LightGBM] [Info] Auto-choosing row-wise multi-threading, the overhead of testing was 0.000708 seconds.\n",
      "You can set `force_row_wise=true` to remove the overhead.\n",
      "And if memory is not enough, you can set `force_col_wise=true`.\n",
      "[LightGBM] [Info] Total Bins 52\n",
      "[LightGBM] [Info] Number of data points in the train set: 14914, number of used features: 14\n",
      "[LightGBM] [Info] Start training from score 0.005431\n",
      "[LightGBM] [Info] Auto-choosing row-wise multi-threading, the overhead of testing was 0.000589 seconds.\n",
      "You can set `force_row_wise=true` to remove the overhead.\n",
      "And if memory is not enough, you can set `force_col_wise=true`.\n",
      "[LightGBM] [Info] Total Bins 52\n",
      "[LightGBM] [Info] Number of data points in the train set: 14915, number of used features: 14\n",
      "[LightGBM] [Info] Start training from score 0.012270\n",
      "[LightGBM] [Info] Auto-choosing row-wise multi-threading, the overhead of testing was 0.000389 seconds.\n",
      "You can set `force_row_wise=true` to remove the overhead.\n",
      "And if memory is not enough, you can set `force_col_wise=true`.\n",
      "[LightGBM] [Info] Total Bins 52\n",
      "[LightGBM] [Info] Number of data points in the train set: 14914, number of used features: 14\n",
      "[LightGBM] [Info] Start training from score 0.006883\n",
      "[LightGBM] [Info] Auto-choosing row-wise multi-threading, the overhead of testing was 0.000400 seconds.\n",
      "You can set `force_row_wise=true` to remove the overhead.\n",
      "And if memory is not enough, you can set `force_col_wise=true`.\n",
      "[LightGBM] [Info] Total Bins 52\n",
      "[LightGBM] [Info] Number of data points in the train set: 14915, number of used features: 14\n",
      "[LightGBM] [Info] Start training from score 0.006952\n"
     ]
    },
    {
     "data": {
      "text/plain": [
       "<econml.metalearners._metalearners.XLearner at 0x267c4a10760>"
      ]
     },
     "execution_count": 608,
     "metadata": {},
     "output_type": "execute_result"
    }
   ],
   "source": [
    "# 拟合模型\n",
    "x_learner.fit(Y=Y_train, T=T_train, X=X_train)"
   ]
  },
  {
   "cell_type": "code",
   "execution_count": 609,
   "id": "f49bba1c-5814-4a43-b070-06605eba2b1f",
   "metadata": {},
   "outputs": [],
   "source": [
    "# 预测个体 uplift（treatment effect）\n",
    "te_pred = x_learner.effect(X_test)"
   ]
  },
  {
   "cell_type": "code",
   "execution_count": 610,
   "id": "7b7458ca-9162-42c7-a1d2-3b66f98ed533",
   "metadata": {},
   "outputs": [
    {
     "name": "stdout",
     "output_type": "stream",
     "text": [
      "count    12784.000000\n",
      "mean         0.007051\n",
      "std          0.016531\n",
      "min         -0.104907\n",
      "25%          0.000223\n",
      "50%          0.004793\n",
      "75%          0.010759\n",
      "max          0.185556\n",
      "dtype: float64\n"
     ]
    },
    {
     "data": {
      "image/png": "[encoded data removed]",
      "text/plain": [
       "<Figure size 1200x400 with 1 Axes>"
      ]
     },
     "metadata": {},
     "output_type": "display_data"
    }
   ],
   "source": [
    "print(pd.Series(te_pred).describe())\n",
    "plt.figure(figsize=(12,4))\n",
    "plt.hist(te_pred, bins=100, color='skyblue', alpha=0.75,edgecolor='black', linewidth=.5)\n",
    "plt.title(\"Uplift Score Distribution (X-Learner)\", fontsize=12)\n",
    "plt.xlabel(\"Estimated Treatment Effect\", fontsize=12)\n",
    "plt.ylabel(\"Count\", fontsize=12)\n",
    "plt.show()"
   ]
  },
  {
   "cell_type": "code",
   "execution_count": 611,
   "id": "eb32357a-344b-402c-ad6b-bbef5dbc632d",
   "metadata": {},
   "outputs": [
    {
     "data": {
      "image/png": "[encoded data removed]",
      "text/plain": [
       "<Figure size 1200x400 with 1 Axes>"
      ]
     },
     "metadata": {},
     "output_type": "display_data"
    }
   ],
   "source": [
    "plot_uplift_by_percentile(T_test, Y_test, te_pred)"
   ]
  },
  {
   "cell_type": "code",
   "execution_count": 612,
   "id": "f02c3f12-f948-44be-8590-4a4a416c85fc",
   "metadata": {},
   "outputs": [
    {
     "name": "stdout",
     "output_type": "stream",
     "text": [
      "0.0032148366188513348 0.08414210445964837 1.123877164315266\n"
     ]
    }
   ],
   "source": [
    "uplift_df = pd.DataFrame({\n",
    "    'treatment': T_test,       # 0/1\n",
    "    'y': Y_test,               # 实际 label\n",
    "    'uplift_score': te_pred    # 模型预测的 uplift 分数\n",
    "})\n",
    "auuc = uplift_auc_score(y_true=uplift_df['y'],\n",
    "                        uplift=uplift_df['uplift_score'],\n",
    "                        treatment=uplift_df['treatment'])\n",
    "\n",
    "auqc = qini_auc_score(y_true=uplift_df['y'],\n",
    "                      uplift=uplift_df['uplift_score'],\n",
    "                      treatment=uplift_df['treatment'])\n",
    "\n",
    "lift_30 = compute_lift_at_k(uplift_df, k=0.3)\n",
    "\n",
    "print(auuc, auqc, lift_30)"
   ]
  },
  {
   "cell_type": "markdown",
   "id": "e9eb0c1f-6828-41f7-9f32-36330ba3248c",
   "metadata": {},
   "source": [
    "## 4.4 DRLearner"
   ]
  },
  {
   "cell_type": "code",
   "execution_count": 613,
   "id": "919236f3-d37a-4d91-ae77-1f11972d8073",
   "metadata": {},
   "outputs": [],
   "source": [
    "from econml.dr import DRLearner"
   ]
  },
  {
   "cell_type": "code",
   "execution_count": 614,
   "id": "877d7196-adc5-4e24-8ed7-326032fe53cb",
   "metadata": {},
   "outputs": [],
   "source": [
    "# 定义 outcome model 和 propensity model\n",
    "outcome_model = LGBMRegressor(n_estimators=100, random_state=42)\n",
    "propensity_model = LGBMClassifier(n_estimators=100, random_state=42)"
   ]
  },
  {
   "cell_type": "code",
   "execution_count": 615,
   "id": "fcd6105f-ef93-47ca-9215-a93ebf504a8a",
   "metadata": {},
   "outputs": [],
   "source": [
    "# 初始化 DRLearner\n",
    "dr_learner = DRLearner(model_regression=outcome_model,\n",
    "                       model_propensity=propensity_model,\n",
    "                       model_final=LGBMRegressor(n_estimators=100, random_state=42))"
   ]
  },
  {
   "cell_type": "code",
   "execution_count": 616,
   "id": "8cff42f0-a61b-4961-b9bd-6fd4cb07fe8c",
   "metadata": {},
   "outputs": [
    {
     "name": "stdout",
     "output_type": "stream",
     "text": [
      "[LightGBM] [Info] Number of positive: 7457, number of negative: 7457\n",
      "[LightGBM] [Info] Auto-choosing row-wise multi-threading, the overhead of testing was 0.000665 seconds.\n",
      "You can set `force_row_wise=true` to remove the overhead.\n",
      "And if memory is not enough, you can set `force_col_wise=true`.\n",
      "[LightGBM] [Info] Total Bins 52\n",
      "[LightGBM] [Info] Number of data points in the train set: 14914, number of used features: 14\n",
      "[LightGBM] [Info] [binary:BoostFromScore]: pavg=0.500000 -> initscore=0.000000\n",
      "[LightGBM] [Info] Auto-choosing row-wise multi-threading, the overhead of testing was 0.000415 seconds.\n",
      "You can set `force_row_wise=true` to remove the overhead.\n",
      "And if memory is not enough, you can set `force_col_wise=true`.\n",
      "[LightGBM] [Info] Total Bins 54\n",
      "[LightGBM] [Info] Number of data points in the train set: 14914, number of used features: 15\n",
      "[LightGBM] [Info] Start training from score 0.009454\n",
      "[LightGBM] [Info] Number of positive: 7458, number of negative: 7457\n",
      "[LightGBM] [Info] Auto-choosing row-wise multi-threading, the overhead of testing was 0.000396 seconds.\n",
      "You can set `force_row_wise=true` to remove the overhead.\n",
      "And if memory is not enough, you can set `force_col_wise=true`.\n",
      "[LightGBM] [Info] Total Bins 52\n",
      "[LightGBM] [Info] Number of data points in the train set: 14915, number of used features: 14\n",
      "[LightGBM] [Info] [binary:BoostFromScore]: pavg=0.500034 -> initscore=0.000134\n",
      "[LightGBM] [Info] Start training from score 0.000134\n",
      "[LightGBM] [Info] Auto-choosing row-wise multi-threading, the overhead of testing was 0.000508 seconds.\n",
      "You can set `force_row_wise=true` to remove the overhead.\n",
      "And if memory is not enough, you can set `force_col_wise=true`.\n",
      "[LightGBM] [Info] Total Bins 54\n",
      "[LightGBM] [Info] Number of data points in the train set: 14915, number of used features: 15\n",
      "[LightGBM] [Info] Start training from score 0.008247\n",
      "[LightGBM] [Info] Auto-choosing row-wise multi-threading, the overhead of testing was 0.000810 seconds.\n",
      "You can set `force_row_wise=true` to remove the overhead.\n",
      "And if memory is not enough, you can set `force_col_wise=true`.\n",
      "[LightGBM] [Info] Total Bins 52\n",
      "[LightGBM] [Info] Number of data points in the train set: 29829, number of used features: 14\n",
      "[LightGBM] [Info] Start training from score 0.006903\n"
     ]
    },
    {
     "data": {
      "text/plain": [
       "<econml.dr._drlearner.DRLearner at 0x267c4656ee0>"
      ]
     },
     "execution_count": 616,
     "metadata": {},
     "output_type": "execute_result"
    }
   ],
   "source": [
    "# 拟合\n",
    "dr_learner.fit(Y=Y_train, T=T_train, X=X_train)"
   ]
  },
  {
   "cell_type": "code",
   "execution_count": 617,
   "id": "ceed8493-3685-462e-b88a-1b1a34db4bdb",
   "metadata": {},
   "outputs": [],
   "source": [
    "# 预测 uplift\n",
    "te_pred = dr_learner.effect(X_test)"
   ]
  },
  {
   "cell_type": "code",
   "execution_count": 618,
   "id": "d1a277b3-4109-4d0c-8d7c-2564b04fa7da",
   "metadata": {},
   "outputs": [
    {
     "name": "stdout",
     "output_type": "stream",
     "text": [
      "count    12784.000000\n",
      "mean         0.007227\n",
      "std          0.023167\n",
      "min         -0.448019\n",
      "25%         -0.000307\n",
      "50%          0.003805\n",
      "75%          0.009993\n",
      "max          0.325030\n",
      "dtype: float64\n"
     ]
    },
    {
     "data": {
      "image/png": "[encoded data removed]",
      "text/plain": [
       "<Figure size 1200x400 with 1 Axes>"
      ]
     },
     "metadata": {},
     "output_type": "display_data"
    }
   ],
   "source": [
    "print(pd.Series(te_pred).describe())\n",
    "plt.figure(figsize=(12,4))\n",
    "plt.hist(te_pred, bins=100, color='skyblue', alpha=0.75,edgecolor='black', linewidth=.5)\n",
    "plt.title(\"Uplift Score Distribution (DRLearner)\", fontsize=12)\n",
    "plt.xlabel(\"Estimated Treatment Effect\", fontsize=12)\n",
    "plt.ylabel(\"Count\", fontsize=12)\n",
    "plt.show()"
   ]
  },
  {
   "cell_type": "code",
   "execution_count": 619,
   "id": "6b3cdbb1-0a33-4560-a36d-a64849f4bf4b",
   "metadata": {},
   "outputs": [
    {
     "data": {
      "image/png": "[encoded data removed]",
      "text/plain": [
       "<Figure size 1200x400 with 1 Axes>"
      ]
     },
     "metadata": {},
     "output_type": "display_data"
    }
   ],
   "source": [
    "plot_uplift_by_percentile(T_test, Y_test, te_pred)"
   ]
  },
  {
   "cell_type": "code",
   "execution_count": 620,
   "id": "4213ad76-6724-4ef2-81c9-f91dd0896338",
   "metadata": {},
   "outputs": [
    {
     "name": "stdout",
     "output_type": "stream",
     "text": [
      "0.0032502876352182935 0.08325306401135951 1.672897440431685\n"
     ]
    }
   ],
   "source": [
    "uplift_df = pd.DataFrame({\n",
    "    'treatment': T_test,       # 0/1\n",
    "    'y': Y_test,               # 实际 label\n",
    "    'uplift_score': te_pred    # 模型预测的 uplift 分数\n",
    "})\n",
    "auuc = uplift_auc_score(y_true=uplift_df['y'],\n",
    "                        uplift=uplift_df['uplift_score'],\n",
    "                        treatment=uplift_df['treatment'])\n",
    "\n",
    "auqc = qini_auc_score(y_true=uplift_df['y'],\n",
    "                      uplift=uplift_df['uplift_score'],\n",
    "                      treatment=uplift_df['treatment'])\n",
    "\n",
    "lift_30 = compute_lift_at_k(uplift_df, k=0.3)\n",
    "\n",
    "print(auuc, auqc, lift_30)"
   ]
  },
  {
   "cell_type": "markdown",
   "id": "a931c262-a4c7-45a8-aeeb-48f0abe44b9e",
   "metadata": {},
   "source": [
    "### 4.5 CausalForest"
   ]
  },
  {
   "cell_type": "code",
   "execution_count": 621,
   "id": "f7b4c714-5031-4405-87cc-73b6afbd8d64",
   "metadata": {},
   "outputs": [],
   "source": [
    "from econml.dml import CausalForestDML\n",
    "# 设置基学习器\n",
    "estimator = LGBMRegressor(n_estimators=100, random_state=42)\n",
    "propensity_model = LGBMClassifier(n_estimators=100, random_state=42)"
   ]
  },
  {
   "cell_type": "code",
   "execution_count": 622,
   "id": "b7c23144-4f89-4bb1-9227-ec1c92f190d4",
   "metadata": {},
   "outputs": [],
   "source": [
    "# 初始化 CausalForestDML\n",
    "cf_model = CausalForestDML(\n",
    "    model_t=propensity_model,\n",
    "    model_y=estimator,\n",
    "    discrete_treatment=True,\n",
    "    n_estimators=100,\n",
    "    min_samples_leaf=10,\n",
    "    max_depth=10,\n",
    "    random_state=42\n",
    ")"
   ]
  },
  {
   "cell_type": "code",
   "execution_count": 623,
   "id": "a05fdeeb-d5c7-4069-a29b-60a9ee45710b",
   "metadata": {},
   "outputs": [
    {
     "name": "stdout",
     "output_type": "stream",
     "text": [
      "[LightGBM] [Info] Number of positive: 7457, number of negative: 7457\n",
      "[LightGBM] [Info] Auto-choosing row-wise multi-threading, the overhead of testing was 0.000544 seconds.\n",
      "You can set `force_row_wise=true` to remove the overhead.\n",
      "And if memory is not enough, you can set `force_col_wise=true`.\n",
      "[LightGBM] [Info] Total Bins 52\n",
      "[LightGBM] [Info] Number of data points in the train set: 14914, number of used features: 14\n",
      "[LightGBM] [Info] [binary:BoostFromScore]: pavg=0.500000 -> initscore=0.000000\n",
      "[LightGBM] [Info] Auto-choosing row-wise multi-threading, the overhead of testing was 0.000537 seconds.\n",
      "You can set `force_row_wise=true` to remove the overhead.\n",
      "And if memory is not enough, you can set `force_col_wise=true`.\n",
      "[LightGBM] [Info] Total Bins 52\n",
      "[LightGBM] [Info] Number of data points in the train set: 14914, number of used features: 14\n",
      "[LightGBM] [Info] Start training from score 0.008784\n",
      "[LightGBM] [Info] Number of positive: 7458, number of negative: 7457\n",
      "[LightGBM] [Info] Auto-choosing row-wise multi-threading, the overhead of testing was 0.000370 seconds.\n",
      "You can set `force_row_wise=true` to remove the overhead.\n",
      "And if memory is not enough, you can set `force_col_wise=true`.\n",
      "[LightGBM] [Info] Total Bins 52\n",
      "[LightGBM] [Info] Number of data points in the train set: 14915, number of used features: 14\n",
      "[LightGBM] [Info] [binary:BoostFromScore]: pavg=0.500034 -> initscore=0.000134\n",
      "[LightGBM] [Info] Start training from score 0.000134\n",
      "[LightGBM] [Info] Auto-choosing row-wise multi-threading, the overhead of testing was 0.000507 seconds.\n",
      "You can set `force_row_wise=true` to remove the overhead.\n",
      "And if memory is not enough, you can set `force_col_wise=true`.\n",
      "[LightGBM] [Info] Total Bins 52\n",
      "[LightGBM] [Info] Number of data points in the train set: 14915, number of used features: 14\n",
      "[LightGBM] [Info] Start training from score 0.008917\n"
     ]
    },
    {
     "data": {
      "text/plain": [
       "<econml.dml.causal_forest.CausalForestDML at 0x267bd3715e0>"
      ]
     },
     "execution_count": 623,
     "metadata": {},
     "output_type": "execute_result"
    }
   ],
   "source": [
    "# 拟合\n",
    "cf_model.fit(Y=Y_train, T=T_train, X=X_train)"
   ]
  },
  {
   "cell_type": "code",
   "execution_count": 624,
   "id": "1ef174fb-28bf-4411-a5f9-7b54164c38b9",
   "metadata": {},
   "outputs": [],
   "source": [
    "# 预测 treatment effect（uplift 分数）\n",
    "te_pred = cf_model.effect(X_test)"
   ]
  },
  {
   "cell_type": "code",
   "execution_count": 625,
   "id": "dfa81c03-1c30-4747-8eb9-b2a29e3ae74f",
   "metadata": {},
   "outputs": [
    {
     "name": "stdout",
     "output_type": "stream",
     "text": [
      "count    12784.000000\n",
      "mean         0.007267\n",
      "std          0.011883\n",
      "min         -0.042713\n",
      "25%          0.001044\n",
      "50%          0.004533\n",
      "75%          0.011741\n",
      "max          0.087339\n",
      "dtype: float64\n"
     ]
    },
    {
     "data": {
      "image/png": "[encoded data removed]",
      "text/plain": [
       "<Figure size 1200x400 with 1 Axes>"
      ]
     },
     "metadata": {},
     "output_type": "display_data"
    }
   ],
   "source": [
    "print(pd.Series(te_pred).describe())\n",
    "plt.figure(figsize=(12,4))\n",
    "plt.hist(te_pred, bins=100, color='skyblue', alpha=0.75,edgecolor='black', linewidth=.5)\n",
    "plt.title(\"Uplift Score Distribution (DRLearner)\", fontsize=12)\n",
    "plt.xlabel(\"Estimated Treatment Effect\", fontsize=12)\n",
    "plt.ylabel(\"Count\", fontsize=12)\n",
    "plt.show()"
   ]
  },
  {
   "cell_type": "code",
   "execution_count": 626,
   "id": "cfc48fb4-207b-4961-b6cb-f98e248a925c",
   "metadata": {},
   "outputs": [
    {
     "data": {
      "image/png": "[encoded data removed]",
      "text/plain": [
       "<Figure size 1200x400 with 1 Axes>"
      ]
     },
     "metadata": {},
     "output_type": "display_data"
    }
   ],
   "source": [
    "plot_uplift_by_percentile(T_test, Y_test, te_pred)"
   ]
  },
  {
   "cell_type": "code",
   "execution_count": 627,
   "id": "f5779ab3-2e24-4ae5-9987-74de640b9b6e",
   "metadata": {},
   "outputs": [
    {
     "name": "stdout",
     "output_type": "stream",
     "text": [
      "0.00015683292689042978 0.007121425744397252 1.0049540530828074\n"
     ]
    }
   ],
   "source": [
    "uplift_df = pd.DataFrame({\n",
    "    'treatment': T_test,       # 0/1\n",
    "    'y': Y_test,               # 实际 label\n",
    "    'uplift_score': te_pred    # 模型预测的 uplift 分数\n",
    "})\n",
    "auuc = uplift_auc_score(y_true=uplift_df['y'],\n",
    "                        uplift=uplift_df['uplift_score'],\n",
    "                        treatment=uplift_df['treatment'])\n",
    "\n",
    "auqc = qini_auc_score(y_true=uplift_df['y'],\n",
    "                      uplift=uplift_df['uplift_score'],\n",
    "                      treatment=uplift_df['treatment'])\n",
    "\n",
    "lift_30 = compute_lift_at_k(uplift_df, k=0.3)\n",
    "\n",
    "print(auuc, auqc, lift_30)"
   ]
  },
  {
   "cell_type": "markdown",
   "id": "55f44340-c632-44ba-baf3-80bfa61e85b5",
   "metadata": {},
   "source": [
    "结论：T-Learner：AUUC、AUQC、Lift@30% 全面领先或居前。"
   ]
  },
  {
   "cell_type": "markdown",
   "id": "3f96db27-8ecb-49ab-b619-cabe4e04f82d",
   "metadata": {},
   "source": [
    "---"
   ]
  },
  {
   "cell_type": "markdown",
   "id": "73110aa2-6c3d-42ea-bc7c-12acfde2bbd5",
   "metadata": {},
   "source": [
    "## 5. Deep Uplifting"
   ]
  },
  {
   "cell_type": "code",
   "execution_count": null,
   "id": "d2e703ce-482a-430e-8b51-403ff556d245",
   "metadata": {},
   "outputs": [],
   "source": []
  }
 ],
 "metadata": {
  "kernelspec": {
   "display_name": "Python 3 (ipykernel)",
   "language": "python",
   "name": "python3"
  },
  "language_info": {
   "codemirror_mode": {
    "name": "ipython",
    "version": 3
   },
   "file_extension": ".py",
   "mimetype": "text/x-python",
   "name": "python",
   "nbconvert_exporter": "python",
   "pygments_lexer": "ipython3",
   "version": "3.9.21"
  }
 },
 "nbformat": 4,
 "nbformat_minor": 5
}
