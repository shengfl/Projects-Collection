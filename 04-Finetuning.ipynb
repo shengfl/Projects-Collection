{
 "cells": [
  {
   "cell_type": "code",
   "execution_count": 2,
   "id": "b98f242a-5cad-4ac5-8877-4421a977dbed",
   "metadata": {},
   "outputs": [],
   "source": [
    "from datasets import load_dataset\n",
    "from transformers import AutoTokenizer, AutoModelForQuestionAnswering\n",
    "import torch"
   ]
  },
  {
   "cell_type": "code",
   "execution_count": 3,
   "id": "b8dfc40d-10d5-4095-9b62-584c6276ebe3",
   "metadata": {},
   "outputs": [
    {
     "name": "stderr",
     "output_type": "stream",
     "text": [
      "Some weights of DistilBertForQuestionAnswering were not initialized from the model checkpoint at distilbert-base-uncased and are newly initialized: ['qa_outputs.bias', 'qa_outputs.weight']\n",
      "You should probably TRAIN this model on a down-stream task to be able to use it for predictions and inference.\n"
     ]
    }
   ],
   "source": [
    "# 选择模型：DistilBERT\n",
    "MODEL_NAME = 'distilbert-base-uncased' \n",
    "tokenizer = AutoTokenizer.from_pretrained(MODEL_NAME)\n",
    "model = AutoModelForQuestionAnswering.from_pretrained(MODEL_NAME)"
   ]
  },
  {
   "cell_type": "code",
   "execution_count": 4,
   "id": "05405ea1-6e93-4068-afb8-ab5c5c97bd17",
   "metadata": {},
   "outputs": [],
   "source": [
    "# 加载 SQuAD v2 数据集\n",
    "squad_dataset = load_dataset('squad_v2', cache_dir='./data/squad', trust_remote_code=True)"
   ]
  },
  {
   "cell_type": "code",
   "execution_count": 5,
   "id": "d14699d1-3352-491d-82c7-6ac5139bb3cd",
   "metadata": {},
   "outputs": [
    {
     "data": {
      "text/plain": [
       "DatasetDict({\n",
       "    train: Dataset({\n",
       "        features: ['id', 'title', 'context', 'question', 'answers'],\n",
       "        num_rows: 130319\n",
       "    })\n",
       "    validation: Dataset({\n",
       "        features: ['id', 'title', 'context', 'question', 'answers'],\n",
       "        num_rows: 11873\n",
       "    })\n",
       "})"
      ]
     },
     "execution_count": 5,
     "metadata": {},
     "output_type": "execute_result"
    }
   ],
   "source": [
    "squad_dataset"
   ]
  },
  {
   "cell_type": "code",
   "execution_count": 6,
   "id": "b1f8ab97-71ea-4239-b0b0-961d6c0a6041",
   "metadata": {},
   "outputs": [
    {
     "name": "stdout",
     "output_type": "stream",
     "text": [
      "When did Beyonce start becoming popular? {'text': ['in the late 1990s'], 'answer_start': [269]}\n",
      "What areas did Beyonce compete in when she was growing up? {'text': ['singing and dancing'], 'answer_start': [207]}\n",
      "When did Beyonce leave Destiny's Child and become a solo singer? {'text': ['2003'], 'answer_start': [526]}\n",
      "In what city and state did Beyonce  grow up?  {'text': ['Houston, Texas'], 'answer_start': [166]}\n",
      "In which decade did Beyonce become famous? {'text': ['late 1990s'], 'answer_start': [276]}\n",
      "In what R&B group was she the lead singer? {'text': [\"Destiny's Child\"], 'answer_start': [320]}\n",
      "What album made her a worldwide known artist? {'text': ['Dangerously in Love'], 'answer_start': [505]}\n",
      "Who managed the Destiny's Child group? {'text': ['Mathew Knowles'], 'answer_start': [360]}\n",
      "When did Beyoncé rise to fame? {'text': ['late 1990s'], 'answer_start': [276]}\n",
      "What role did Beyoncé have in Destiny's Child? {'text': ['lead singer'], 'answer_start': [290]}\n",
      "What was the first album Beyoncé released as a solo artist? {'text': ['Dangerously in Love'], 'answer_start': [505]}\n"
     ]
    }
   ],
   "source": [
    "for i in range(11):\n",
    "    print(squad_dataset['train']['question'][i], squad_dataset['train']['answers'][i])"
   ]
  },
  {
   "cell_type": "code",
   "execution_count": 7,
   "id": "22eec57f-6fe9-4e0b-ba81-e15e487c0fb7",
   "metadata": {},
   "outputs": [],
   "source": [
    "hotpotqa_dataset = load_dataset('hotpot_qa', 'distractor', \n",
    "                                split='train[:10%]', cache_dir='./data/hotpotqa', trust_remote_code=True) # 只加载部分数据，测试用"
   ]
  },
  {
   "cell_type": "code",
   "execution_count": 8,
   "id": "521d5af8-516d-4f40-8bc2-74b760fdb311",
   "metadata": {},
   "outputs": [
    {
     "data": {
      "text/plain": [
       "Dataset({\n",
       "    features: ['id', 'question', 'answer', 'type', 'level', 'supporting_facts', 'context'],\n",
       "    num_rows: 9045\n",
       "})"
      ]
     },
     "execution_count": 8,
     "metadata": {},
     "output_type": "execute_result"
    }
   ],
   "source": [
    "hotpotqa_dataset"
   ]
  },
  {
   "cell_type": "code",
   "execution_count": 9,
   "id": "6e6df922-761e-478f-ae7b-72f4955f3bc0",
   "metadata": {
    "collapsed": true,
    "jupyter": {
     "outputs_hidden": true
    }
   },
   "outputs": [
    {
     "name": "stdout",
     "output_type": "stream",
     "text": [
      "Which magazine was started first Arthur's Magazine or First for Women? \n",
      " Arthur's Magazine \n",
      " comparison \n",
      " medium \n",
      " {'title': [\"Arthur's Magazine\", 'First for Women'], 'sent_id': [0, 0]} \n",
      " {'title': ['Radio City (Indian radio station)', 'History of Albanian football', 'Echosmith', \"Women's colleges in the Southern United States\", 'First Arthur County Courthouse and Jail', \"Arthur's Magazine\", '2014–15 Ukrainian Hockey Championship', 'First for Women', 'Freeway Complex Fire', 'William Rast'], 'sentences': [[\"Radio City is India's first private FM radio station and was started on 3 July 2001.\", ' It broadcasts on 91.1 (earlier 91.0 in most cities) megahertz from Mumbai (where it was started in 2004), Bengaluru (started first in 2001), Lucknow and New Delhi (since 2003).', ' It plays Hindi, English and regional songs.', ' It was launched in Hyderabad in March 2006, in Chennai on 7 July 2006 and in Visakhapatnam October 2007.', ' Radio City recently forayed into New Media in May 2008 with the launch of a music portal - PlanetRadiocity.com that offers music related news, videos, songs, and other music-related features.', ' The Radio station currently plays a mix of Hindi and Regional music.', ' Abraham Thomas is the CEO of the company.'], ['Football in Albania existed before the Albanian Football Federation (FSHF) was created.', \" This was evidenced by the team's registration at the Balkan Cup tournament during 1929-1931, which started in 1929 (although Albania eventually had pressure from the teams because of competition, competition started first and was strong enough in the duels) .\", ' Albanian National Team was founded on June 6, 1930, but Albania had to wait 16 years to play its first international match and then defeated Yugoslavia in 1946.', ' In 1932, Albania joined FIFA (during the 12–16 June convention ) And in 1954 she was one of the founding members of UEFA.'], ['Echosmith is an American, Corporate indie pop band formed in February 2009 in Chino, California.', ' Originally formed as a quartet of siblings, the band currently consists of Sydney, Noah and Graham Sierota, following the departure of eldest sibling Jamie in late 2016.', ' Echosmith started first as \"Ready Set Go!\"', ' until they signed to Warner Bros.', ' Records in May 2012.', ' They are best known for their hit song \"Cool Kids\", which reached number 13 on the \"Billboard\" Hot 100 and was certified double platinum by the RIAA with over 1,200,000 sales in the United States and also double platinum by ARIA in Australia.', ' The song was Warner Bros.', \" Records' fifth-biggest-selling-digital song of 2014, with 1.3 million downloads sold.\", ' The band\\'s debut album, \"Talking Dreams\", was released on October 8, 2013.'], [\"Women's colleges in the Southern United States refers to undergraduate, bachelor's degree–granting institutions, often liberal arts colleges, whose student populations consist exclusively or almost exclusively of women, located in the Southern United States.\", \" Many started first as girls' seminaries or academies.\", ' Salem College is the oldest female educational institution in the South and Wesleyan College is the first that was established specifically as a college for women.', ' Some schools, such as Mary Baldwin University and Salem College, offer coeducational courses at the graduate level.'], ['The First Arthur County Courthouse and Jail, was perhaps the smallest court house in the United States, and serves now as a museum.'], [\"Arthur's Magazine (1844–1846) was an American literary periodical published in Philadelphia in the 19th century.\", ' Edited by T.S. Arthur, it featured work by Edgar A. Poe, J.H. Ingraham, Sarah Josepha Hale, Thomas G. Spear, and others.', ' In May 1846 it was merged into \"Godey\\'s Lady\\'s Book\".'], ['The 2014–15 Ukrainian Hockey Championship was the 23rd season of the Ukrainian Hockey Championship.', ' Only four teams participated in the league this season, because of the instability in Ukraine and that most of the clubs had economical issues.', ' Generals Kiev was the only team that participated in the league the previous season, and the season started first after the year-end of 2014.', ' The regular season included just 12 rounds, where all the teams went to the semifinals.', ' In the final, ATEK Kiev defeated the regular season winner HK Kremenchuk.'], [\"First for Women is a woman's magazine published by Bauer Media Group in the USA.\", ' The magazine was started in 1989.', ' It is based in Englewood Cliffs, New Jersey.', ' In 2011 the circulation of the magazine was 1,310,696 copies.'], ['The Freeway Complex Fire was a 2008 wildfire in the Santa Ana Canyon area of Orange County, California.', ' The fire started as two separate fires on November 15, 2008.', ' The \"Freeway Fire\" started first shortly after 9am with the \"Landfill Fire\" igniting approximately 2 hours later.', ' These two separate fires merged a day later and ultimately destroyed 314 residences in Anaheim Hills and Yorba Linda.'], ['William Rast is an American clothing line founded by Justin Timberlake and Trace Ayala.', ' It is most known for their premium jeans.', ' On October 17, 2006, Justin Timberlake and Trace Ayala put on their first fashion show to launch their new William Rast clothing line.', ' The label also produces other clothing items such as jackets and tops.', ' The company started first as a denim line, later evolving into a men’s and women’s clothing line.']]}\n",
      "The Oberoi family is part of a hotel company that has a head office in what city? \n",
      " Delhi \n",
      " bridge \n",
      " medium \n",
      " {'title': ['Oberoi family', 'The Oberoi Group'], 'sent_id': [0, 0]} \n",
      " {'title': ['Ritz-Carlton Jakarta', 'Oberoi family', 'Ishqbaaaz', 'Hotel Tallcorn', 'Mohan Singh Oberoi', 'Hotel Bond', 'The Oberoi Group', 'Future Fibre Technologies', '289th Military Police Company', 'Glennwanis Hotel'], 'sentences': [['The Ritz-Carlton Jakarta is a hotel and skyscraper in Jakarta, Indonesia and 14th Tallest building in Jakarta.', ' It is located in city center of Jakarta, near Mega Kuningan, adjacent to the sister JW Marriott Hotel.', ' It is operated by The Ritz-Carlton Hotel Company.', ' The complex has two towers that comprises a hotel and the Airlangga Apartment respectively.', ' The hotel was opened in 2005.'], ['The Oberoi family is an Indian family that is famous for its involvement in hotels, namely through The Oberoi Group.'], ['Ishqbaaaz (English: \"Lovers\") is an Indian drama television series which is broadcast on Star Plus.', ' It premiered on 27 June 2016 and airs Mon-Fri 10-11pm IST.', 'Nakuul Mehta, Kunal Jaisingh and Leenesh Mattoo respectively portray Shivaay, Omkara and Rudra, the three heirs of the Oberoi family.', ' The show initially focused on the tale of three brothers, later become centered on the love story of Shivaay and Annika (Surbhi Chandna); with the story of Omkara and Rudra being shifted to the spinoff series \"Dil Boley Oberoi\".', ' In July 2017 \"Dil Boley Oberoi\" ended and the storylines were merged back into \"Ishqbaaaz\" which doubled its runtime.'], ['The Hotel Tallcorn is located in Marshalltown, Iowa.', ' Today it is called the Tallcorn Towers Apartments.', ' Built in 1928 by the Eppley Hotel Company, local citizens contributed $120,000 to ensure the successful completion of this seven-story hotel.', ' It was completed in connection to the seventy-fifth anniversary of Marshalltown.', \" The hotel's sale in 1956 from the Eppley chain to the Sheraton Corporation was part of the second largest hotel sale in United States history.\", ' The Tallcorn was listed as a contributing property in the Marshalltown Downtown Historic District on the National Register of Historic Places in 2002.'], [\"Rai Bahadur Mohan Singh Oberoi (15 August 1898\\xa0– 3 May 2002) was an Indian hotelier, the founder and chairman of Oberoi Hotels & Resorts, India's second-largest hotel company, with 35 hotels in India, Sri Lanka, Nepal, Egypt, Australia and Hungary.\"], ['Hotel Bond is a historic hotel, built in two stages in 1913 and 1921, in downtown Hartford, Connecticut by hotelier Harry S. Bond.', ' It is located near Bushnell Park, and was considered the grandest hotel in Hartford during its heyday.', ' The second section is a 12 story building attached to the 6 story first section.', ' A Statler Hotel opened in the area in 1954, creating competition, and the Bond Hotel company declared bankruptcy shortly after that.', ' It was bought by the California-based Masaglia Hotel chain, which began an incremental renovation program.', ' In 1964 it was sold to a Cincinnati, Ohio investment group which announced extensive renovation plans.', ' However, the financing plans fell through and the hotel was again in bankruptcy.', ' The building was sold at auction to the Roman Catholic Archdiocese of Hartford in 1965, and it became the home of the Saint Francis Hospital School of Nursing.', ' The Bond Ballroom reopened in 2001, with the rest of the building becoming a Homewood Suites by Hilton in 2006.'], ['The Oberoi Group is a hotel company with its head office in Delhi.', ' Founded in 1934, the company owns and/or operates 30+ luxury hotels and two river cruise ships in six countries, primarily under its Oberoi Hotels & Resorts and Trident Hotels brands.'], ['Future Fibre Technologies (FFT) is a fiber optic sensing technologies company based in Melbourne, Australia, with its US head office in Mountain View, California, Middle East head office in Dubai, Indian head office in New Delhi and European head office in London.', ' Founded in 1994, Future Fibre Technologies product line provides optical fiber intrusion detection systems for perimeters, buried oil and gas pipelines and data communication networks.'], ['The 289th Military Police Company was activated on 1 November 1994 and attached to Hotel Company, 3rd Infantry (The Old Guard), Fort Myer, Virginia.', \" Hotel Company is the regiment's specialty company.\"], ['The Glennwanis Hotel is a historic hotel in Glennville, Georgia, Tattnall County, Georgia, built on the site of the Hughes Hotel.', ' The hotel is located at 209-215 East Barnard Street.', ' The old Hughes Hotel was built out of Georgia pine circa 1905 and burned in 1920.', ' The Glennwanis was built in brick in 1926.', ' The local Kiwanis club led the effort to get the replacement hotel built, and organized a Glennville Hotel Company with directors being local business leaders.', ' The wife of a local doctor won a naming contest with the name \"Glennwanis Hotel\", a suggestion combining \"Glennville\" and \"Kiwanis\".']]}\n",
      "Musician and satirist Allie Goertz wrote a song about the \"The Simpsons\" character Milhouse, who Matt Groening named after who? \n",
      " President Richard Nixon \n",
      " bridge \n",
      " hard \n",
      " {'title': ['Allie Goertz', 'Allie Goertz', 'Allie Goertz', 'Milhouse Van Houten'], 'sent_id': [0, 1, 2, 0]} \n",
      " {'title': ['Lisa Simpson', 'Marge Simpson', 'Bart Simpson', 'Allie Goertz', 'Milhouse Van Houten', 'Los Angeles Reader', 'Homer Simpson', 'List of The Simpsons video games', 'The Simpsons: An Uncensored, Unauthorized History', 'List of The Simpsons guest stars'], 'sentences': [['Lisa Marie Simpson is a fictional character in the animated television series \"The Simpsons\".', ' She is the middle child and most intelligent of the Simpson family.', ' Voiced by Yeardley Smith, Lisa first appeared on television in \"The Tracey Ullman Show\" short \"Good Night\" on April 19, 1987.', ' Cartoonist Matt Groening created and designed her while waiting to meet James L. Brooks.', ' Groening had been invited to pitch a series of shorts based on his comic \"Life in Hell\", but instead decided to create a new set of characters.', ' He named the elder Simpson daughter after his younger sister Lisa Groening.', ' After appearing on \"The Tracey Ullman Show\" for three years, the Simpson family were moved to their own series on Fox, which debuted on December 17, 1989.'], ['Marjorie Jacqueline \"Marge\" Simpson (née Bouvier) is a fictional character in the American animated sitcom \"The Simpsons\" and part of the eponymous family.', ' She is voiced by Julie Kavner and first appeared on television in \"The Tracey Ullman Show\" short \"Good Night\" on April 19, 1987.', \" Marge was created and designed by cartoonist Matt Groening while he was waiting in the lobby of James L. Brooks' office.\", ' Groening had been called to pitch a series of shorts based on \"Life in Hell\" but instead decided to create a new set of characters.', ' He named the character after his mother Margaret Groening.', ' After appearing on \"The Tracey Ullman Show\" for three seasons, the Simpson family received their own series on Fox, which debuted December 17, 1989.'], ['Bartholomew JoJo \"Bart\" Simpson is a fictional character in the American animated television series \"The Simpsons\" and part of the Simpson family.', ' He is voiced by Nancy Cartwright and first appeared on television in \"The Tracey Ullman Show\" short \"Good Night\" on April 19, 1987.', \" Cartoonist Matt Groening created and designed Bart while waiting in the lobby of James L. Brooks' office.\", ' Groening had been called to pitch a series of shorts based on his comic strip, \"Life in Hell\", but instead decided to create a new set of characters.', ' While the rest of the characters were named after Groening\\'s family members, Bart\\'s name is an anagram of the word \"brat\".', ' After appearing on \"The Tracey Ullman Show\" for three years, the Simpson family received its own series on Fox, which debuted December 17, 1989.'], ['Allison Beth \"Allie\" Goertz (born March 2, 1991) is an American musician.', ' Goertz is known for her satirical songs based on various pop culture topics.', ' Her videos are posted on YouTube under the name of Cossbysweater.', ' Subjects of her songs have included the film \"The Room\", the character Milhouse from the television show \"The Simpsons\", and the game Dungeons & Dragons.', ' Her style has been compared to that of Bo Burnham.', ' In December 2015, Goertz released a concept album based on the Adult Swim series \"Rick and Morty\", \"Sad Dance Songs\", with the album\\'s cover emulating the animation and logo of the series.', ' The album was made possible through Kickstarter.', \" She is co-host of Everything's Coming Up Podcast, a Simpsons-focused podcast along with Julia Prescott.\"], ['Milhouse Mussolini van Houten is a fictional character featured in the animated television series \"The Simpsons\", voiced by Pamela Hayden, and created by Matt Groening who named the character after President Richard Nixon\\'s middle name.', ' Later in the series, it is revealed that Milhouse\\'s middle name is \"Mussolini.\"'], ['Los Angeles Reader was a weekly paper established in 1978 and distributed in Los Angeles, United States.', ' It followed the format of the (still active) Chicago Reader.', ' The paper was known for having lengthy, thoughtful reviews of movies, plays and concerts in the LA area.', ' James Vowell was its founding editor.', \" Among its writers were Keith Fitzgerald, Nigey Lennon, Lionel Rolfe, Lawrence Wechsler, Mick Farren, Richard Meltzer, Heidi Dvorak, Chris Morris, Jerry Stahl, Steven Kane, Andy Klein, Allen Levy, Jim Goad, Kirk Silsbee, Henry Sheehan, Samantha Dunn, Natalie Nichols, Steve Appleford, Eric Mankin (also editor), Paul Birchall, Eddie Rivera (who wrote the paper's first cover story), Amy Steinberg, Harry Sheehan, Dan Sallit, Myron Meisel, David Ehrenstein.\", ' Tom Davis, Bruce Bebb, Stuart Goldman, Ernest Hardy, Kevin Uhrich, Erik Himmelsbach and David L. Ulin.', \" It is famous for being the first newspaper to publish Matt Groening's cartoon strip, Life in Hell on April 25, 1980.\", ' James Vowell hired Matt Groening as his assistant editor in 1979.', ' Groening was also originally a Reader music critic.', ' It also ran a cartoon strip by David Lynch (director of Blue Velvet) called The Angriest Dog in the World, a strip notable for having exactly the same drawing panels for its entire run.', ' James Vowell and his wife Codette Wallace bought the Reader from the Chicago Reader in February 1989.', ' They sold \"The Reader\" to New Times Media in 1996, which merged it with the \"Los Angeles View\" to form \"New Times LA\".'], ['Homer Jay Simpson is a fictional character and the main protagonist of the American animated television series \"The Simpsons\" as the patriarch of the eponymous family.', ' He is voiced by Dan Castellaneta and first appeared on television, along with the rest of his family, in \"The Tracey Ullman Show\" short \"Good Night\" on April 19, 1987.', \" Homer was created and designed by cartoonist Matt Groening while he was waiting in the lobby of James L. Brooks' office.\", ' Groening had been called to pitch a series of shorts based on his comic strip \"Life in Hell\" but instead decided to create a new set of characters.', ' He named the character after his father, Homer Groening.', ' After appearing for three seasons on \"The Tracey Ullman Show\", the Simpson family got their own series on Fox that debuted December 17, 1989.'], ['\"The Simpsons\" is an American animated television sitcom created by Matt Groening for the Fox Broadcasting Company.', ' The series is a satirical parody of a middle class American lifestyle epitomized by its eponymous family, which consists of Homer, Marge, Bart, Lisa and Maggie.', ' It is set in the fictional town of Springfield, and lampoons American culture, society and television, and many aspects of the human condition.', ' The family was conceived by Groening shortly before a pitch for a series of animated shorts with producer James L.\\xa0Brooks.', ' Groening created a dysfunctional family and named the characters after members of his own family, substituting Bart for his own name.', ' The shorts became a part of \"The Tracey Ullman Show\" on April 19, 1987 and after a three-season run, the sketch was developed into a half-hour prime time show and became a hit series for Fox.', ' The growing popularity of the series motivated video game developers to create video games based on the series.', ' Two pinball machines have also been produced; one self-titled, that was only made available for a limited time after the first season finale (1990) and \"The Simpsons Pinball Party\" (2003).', ' Additionally, several handheld device games have been released, such as \"Bartman: Avenger of Evil\" (1990) and \"Bart Simpson\\'s Cupcake Crisis\" (1991).'], ['The Simpsons: An Uncensored, Unauthorized History is a non-fiction book about the American animated television series \"The Simpsons\".', ' It was written by John Ortved, and first published in October 2009 by Faber and Faber.', \" In the United Kingdom, the book is called Simpsons Confidential: The uncensored, totally unauthorised history of the world's greatest TV show by the people that made it.\", ' The book is an oral history of the show, and concentrates particularly on the writers and producers of the show.', ' The book includes entire chapters devoted to key figures such as creator Matt Groening and James L. Brooks and Sam Simon, who helped develop the series.', ' According to National Public Radio reviewer Linda Holmes, \"Ortved\\'s thesis, essentially, is that lots of people are responsible for the success of \"The Simpsons\", and their creator, Matt Groening, has too often been viewed as the sole source to the detriment of others who also deserve to be praised.\"'], ['In addition to the show\\'s regular cast of voice actors, celebrity guest stars have been a staple of \"The Simpsons\", an American animated television sitcom created by Matt Groening for the Fox Broadcasting Company, since its first season.', ' \"The Simpsons\" focuses on the eponymous family, which consists of Homer, Marge, Bart, Lisa and Maggie.', ' The family was initially conceived by Groening for a series of animated shorts, which originally aired as a part of \"The Tracey Ullman Show\" between 1987 and 1989.', ' The shorts were developed into a half-hour prime time series which began in December 1989.', ' The series\\' 27th season began in September 2015 and episodes of \"The Simpsons\" have aired.', ' A feature film adaptation of the series called \"The Simpsons Movie\", was released in 2007.']]}\n"
     ]
    }
   ],
   "source": [
    "for i in range(3):\n",
    "    print(hotpotqa_dataset['question'][i],'\\n',hotpotqa_dataset['answer'][i], '\\n',\n",
    "          hotpotqa_dataset['type'][i], '\\n',hotpotqa_dataset['level'][i], '\\n',hotpotqa_dataset['supporting_facts'][i],\n",
    "          '\\n',hotpotqa_dataset['context'][i])"
   ]
  },
  {
   "cell_type": "code",
   "execution_count": 15,
   "id": "90395441-e424-4035-82a7-6737409bcfc3",
   "metadata": {},
   "outputs": [],
   "source": [
    "def preprocess_squad(examples):\n",
    "    questions = [q.strip() for q in examples[\"question\"]]\n",
    "    contexts = [c.strip() for c in examples[\"context\"]]\n",
    "    \n",
    "    inputs = tokenizer(\n",
    "        questions,\n",
    "        contexts,\n",
    "        truncation=\"only_second\",\n",
    "        max_length=512,\n",
    "        stride=128,\n",
    "        padding=\"max_length\",\n",
    "        return_offsets_mapping=True,\n",
    "        return_tensors=\"pt\",\n",
    "    )\n",
    "\n",
    "    start_positions = []\n",
    "    end_positions = []\n",
    "\n",
    "    for i in range(len(questions)):\n",
    "        answer = examples[\"answers\"][i]\n",
    "\n",
    "        # 如果这个样本没有答案（SQuAD v2 可能有这种情况）\n",
    "        if len(answer[\"answer_start\"]) == 0 or len(answer[\"text\"]) == 0:\n",
    "            start_positions.append(0)\n",
    "            end_positions.append(0)\n",
    "            continue\n",
    "\n",
    "        answer_start = answer[\"answer_start\"][0]\n",
    "        answer_text = answer[\"text\"][0]\n",
    "\n",
    "        offsets = inputs[\"offset_mapping\"][i]\n",
    "\n",
    "        # 找到包含答案起始位置的 token\n",
    "        start_pos = end_pos = 0\n",
    "        for idx, (start, end) in enumerate(offsets):\n",
    "            if start <= answer_start < end:\n",
    "                start_pos = idx\n",
    "            if start < answer_start + len(answer_text) <= end:\n",
    "                end_pos = idx\n",
    "                break\n",
    "        else:\n",
    "            # 找不到就默认填 0\n",
    "            start_pos = end_pos = 0\n",
    "\n",
    "        start_positions.append(start_pos)\n",
    "        end_positions.append(end_pos)\n",
    "\n",
    "    inputs[\"start_positions\"] = start_positions\n",
    "    inputs[\"end_positions\"] = end_positions\n",
    "    inputs.pop(\"offset_mapping\")  # 清除不需要的字段\n",
    "\n",
    "    return inputs"
   ]
  },
  {
   "cell_type": "code",
   "execution_count": 16,
   "id": "1fc562f6-cec0-425f-8971-9326854d87bf",
   "metadata": {},
   "outputs": [],
   "source": [
    "def preprocess_hotpotqa(examples):\n",
    "    questions = [q.strip() for q in examples[\"question\"]]\n",
    "    # HotpotQA 的 context 是一个嵌套列表：[ [title, paragraph], ... ]\n",
    "    # 我们拼接所有段落内容\n",
    "    contexts = [\" \".join([\" \".join(c) for c in entry]) for entry in examples[\"context\"]]\n",
    "    answers = [a.strip() for a in examples[\"answer\"]]\n",
    "\n",
    "    inputs = tokenizer(\n",
    "        questions,\n",
    "        contexts,\n",
    "        truncation=\"only_second\",\n",
    "        max_length=512,\n",
    "        stride=128,\n",
    "        padding=\"max_length\",\n",
    "        return_offsets_mapping=True,\n",
    "        return_tensors=\"pt\",\n",
    "    )\n",
    "\n",
    "    start_positions = []\n",
    "    end_positions = []\n",
    "\n",
    "    for i in range(len(questions)):\n",
    "        answer_text = answers[i]\n",
    "        context = contexts[i]\n",
    "        offsets = inputs[\"offset_mapping\"][i]\n",
    "\n",
    "        # 找到答案起始位置\n",
    "        answer_start = context.find(answer_text)\n",
    "        if answer_start == -1:\n",
    "            # 无法对齐答案，设为 0\n",
    "            start_positions.append(0)\n",
    "            end_positions.append(0)\n",
    "            continue\n",
    "\n",
    "        start_pos = end_pos = 0\n",
    "        for idx, (start, end) in enumerate(offsets):\n",
    "            if start <= answer_start < end:\n",
    "                start_pos = idx\n",
    "            if start < answer_start + len(answer_text) <= end:\n",
    "                end_pos = idx\n",
    "                break\n",
    "        else:\n",
    "            start_pos = end_pos = 0\n",
    "\n",
    "        start_positions.append(start_pos)\n",
    "        end_positions.append(end_pos)\n",
    "\n",
    "    inputs[\"start_positions\"] = start_positions\n",
    "    inputs[\"end_positions\"] = end_positions\n",
    "    inputs.pop(\"offset_mapping\")\n",
    "\n",
    "    return inputs"
   ]
  },
  {
   "cell_type": "code",
   "execution_count": 17,
   "id": "a5b51e46-2265-4683-a07e-7a6331097d99",
   "metadata": {},
   "outputs": [
    {
     "data": {
      "application/vnd.jupyter.widget-view+json": {
       "model_id": "8085a7f5cc61437ca482aa38451ffd43",
       "version_major": 2,
       "version_minor": 0
      },
      "text/plain": [
       "Map:   0%|          | 0/130319 [00:00<?, ? examples/s]"
      ]
     },
     "metadata": {},
     "output_type": "display_data"
    }
   ],
   "source": [
    "# SQuAD v2 数据集预处理\n",
    "tokenized_squad_train = squad_dataset[\"train\"].map(preprocess_squad, batched=True, remove_columns=squad_dataset[\"train\"].column_names)\n",
    "tokenized_squad_val = squad_dataset[\"validation\"].map(preprocess_squad, batched=True, remove_columns=squad_dataset[\"validation\"].column_names)"
   ]
  },
  {
   "cell_type": "code",
   "execution_count": 13,
   "id": "d432e22c-fcc2-4a84-a2b9-fbd5925978d9",
   "metadata": {},
   "outputs": [
    {
     "data": {
      "application/vnd.jupyter.widget-view+json": {
       "model_id": "d9a52af3576b40a09fcb74a56e0837fd",
       "version_major": 2,
       "version_minor": 0
      },
      "text/plain": [
       "Map:   0%|          | 0/9045 [00:00<?, ? examples/s]"
      ]
     },
     "metadata": {},
     "output_type": "display_data"
    }
   ],
   "source": [
    "tokenized_hotpotqa = hotpotqa_dataset.map(preprocess_hotpotqa, batched=True, remove_columns=hotpotqa_dataset.column_names)"
   ]
  },
  {
   "cell_type": "markdown",
   "id": "df865fcb-2a36-4d7b-b3f3-071c02bf5e93",
   "metadata": {},
   "source": [
    "---"
   ]
  },
  {
   "cell_type": "code",
   "execution_count": 19,
   "id": "2ca6fe50-ad2d-428d-b9f1-d36429c1c3e9",
   "metadata": {},
   "outputs": [],
   "source": [
    "from transformers import DefaultDataCollator\n",
    "from transformers import AutoModelForQuestionAnswering\n",
    "from transformers import TrainingArguments, Trainer"
   ]
  },
  {
   "cell_type": "code",
   "execution_count": 20,
   "id": "f5581dbf-99c7-47b6-bd21-f7a365060b98",
   "metadata": {},
   "outputs": [],
   "source": [
    "data_collator = DefaultDataCollator(return_tensors=\"pt\")"
   ]
  },
  {
   "cell_type": "code",
   "execution_count": 21,
   "id": "40629822-28e8-466c-9adf-66cb2e41448b",
   "metadata": {},
   "outputs": [
    {
     "name": "stderr",
     "output_type": "stream",
     "text": [
      "Some weights of DistilBertForQuestionAnswering were not initialized from the model checkpoint at distilbert-base-uncased and are newly initialized: ['qa_outputs.bias', 'qa_outputs.weight']\n",
      "You should probably TRAIN this model on a down-stream task to be able to use it for predictions and inference.\n"
     ]
    }
   ],
   "source": [
    "model = AutoModelForQuestionAnswering.from_pretrained(\"distilbert-base-uncased\")"
   ]
  },
  {
   "cell_type": "code",
   "execution_count": 23,
   "id": "2a24dbd0-35af-4ed1-8866-325e83b22abb",
   "metadata": {},
   "outputs": [
    {
     "name": "stderr",
     "output_type": "stream",
     "text": [
      "C:\\miniconda3\\envs\\data_science\\lib\\site-packages\\transformers\\training_args.py:1594: FutureWarning: `evaluation_strategy` is deprecated and will be removed in version 4.46 of 🤗 Transformers. Use `eval_strategy` instead\n",
      "  warnings.warn(\n",
      "C:\\Users\\sheng\\AppData\\Local\\Temp\\ipykernel_59128\\307596042.py:14: FutureWarning: `tokenizer` is deprecated and will be removed in version 5.0.0 for `Trainer.__init__`. Use `processing_class` instead.\n",
      "  trainer = Trainer(\n"
     ]
    }
   ],
   "source": [
    "training_args = TrainingArguments(\n",
    "    output_dir=\"./qa_model\",\n",
    "    evaluation_strategy=\"epoch\",\n",
    "    save_strategy=\"epoch\",\n",
    "    learning_rate=2e-5,\n",
    "    per_device_train_batch_size=8,\n",
    "    per_device_eval_batch_size=8,\n",
    "    num_train_epochs=3,\n",
    "    weight_decay=0.01,\n",
    "    fp16=True, \n",
    "    logging_dir=\"./logs\",\n",
    ")\n",
    "\n",
    "trainer = Trainer(\n",
    "    model=model,\n",
    "    args=training_args,\n",
    "    train_dataset=tokenized_squad_train,\n",
    "    eval_dataset=tokenized_squad_val,  # 正确使用验证集\n",
    "    tokenizer=tokenizer,\n",
    "    data_collator=data_collator\n",
    ")"
   ]
  },
  {
   "cell_type": "code",
   "execution_count": 24,
   "id": "15186c63-913d-486d-9197-5e13d3ef723c",
   "metadata": {},
   "outputs": [
    {
     "data": {
      "text/html": [
       "\n",
       "    <div>\n",
       "      \n",
       "      <progress value='48870' max='48870' style='width:300px; height:20px; vertical-align: middle;'></progress>\n",
       "      [48870/48870 1:51:57, Epoch 3/3]\n",
       "    </div>\n",
       "    <table border=\"1\" class=\"dataframe\">\n",
       "  <thead>\n",
       " <tr style=\"text-align: left;\">\n",
       "      <th>Epoch</th>\n",
       "      <th>Training Loss</th>\n",
       "      <th>Validation Loss</th>\n",
       "    </tr>\n",
       "  </thead>\n",
       "  <tbody>\n",
       "    <tr>\n",
       "      <td>1</td>\n",
       "      <td>1.340800</td>\n",
       "      <td>1.002054</td>\n",
       "    </tr>\n",
       "    <tr>\n",
       "      <td>2</td>\n",
       "      <td>1.057800</td>\n",
       "      <td>0.710837</td>\n",
       "    </tr>\n",
       "    <tr>\n",
       "      <td>3</td>\n",
       "      <td>0.782200</td>\n",
       "      <td>0.583106</td>\n",
       "    </tr>\n",
       "  </tbody>\n",
       "</table><p>"
      ],
      "text/plain": [
       "<IPython.core.display.HTML object>"
      ]
     },
     "metadata": {},
     "output_type": "display_data"
    },
    {
     "data": {
      "text/plain": [
       "TrainOutput(global_step=48870, training_loss=1.1685899772355228, metrics={'train_runtime': 6717.8851, 'train_samples_per_second': 58.196, 'train_steps_per_second': 7.275, 'total_flos': 5.107974402921062e+16, 'train_loss': 1.1685899772355228, 'epoch': 3.0})"
      ]
     },
     "execution_count": 24,
     "metadata": {},
     "output_type": "execute_result"
    }
   ],
   "source": [
    "trainer.train()"
   ]
  },
  {
   "cell_type": "code",
   "execution_count": 25,
   "id": "7fe843cb-253d-4a72-a61a-fec6426681d1",
   "metadata": {},
   "outputs": [
    {
     "data": {
      "text/plain": [
       "('./model_pkl/qa_model_final\\\\tokenizer_config.json',\n",
       " './model_pkl/qa_model_final\\\\special_tokens_map.json',\n",
       " './model_pkl/qa_model_final\\\\vocab.txt',\n",
       " './model_pkl/qa_model_final\\\\added_tokens.json',\n",
       " './model_pkl/qa_model_final\\\\tokenizer.json')"
      ]
     },
     "execution_count": 25,
     "metadata": {},
     "output_type": "execute_result"
    }
   ],
   "source": [
    "trainer.save_model(\"./model_pkl/qa_model_final\")\n",
    "tokenizer.save_pretrained(\"./model_pkl/qa_model_final\")"
   ]
  },
  {
   "cell_type": "code",
   "execution_count": 28,
   "id": "d1cf9fea-2f02-40c2-a59e-256781dff038",
   "metadata": {},
   "outputs": [],
   "source": [
    "import evaluate\n",
    "import numpy as np\n",
    "from tqdm import tqdm"
   ]
  },
  {
   "cell_type": "code",
   "execution_count": 30,
   "id": "9c8ddb98-631d-4e8a-b110-b3b1527c8e48",
   "metadata": {},
   "outputs": [
    {
     "data": {
      "application/vnd.jupyter.widget-view+json": {
       "model_id": "11385a788ca3469a855ea0ebebcb6d34",
       "version_major": 2,
       "version_minor": 0
      },
      "text/plain": [
       "Map:   0%|          | 0/11873 [00:00<?, ? examples/s]"
      ]
     },
     "metadata": {},
     "output_type": "display_data"
    }
   ],
   "source": [
    "# 加载官方评估指标\n",
    "metric = evaluate.load(\"squad_v2\")\n",
    "\n",
    "# 获取验证数据集\n",
    "tokenized_squad_val = squad_dataset[\"validation\"].map(preprocess_squad, batched=True, remove_columns=squad_dataset[\"validation\"].column_names)\n",
    "eval_dataset = tokenized_squad_val"
   ]
  },
  {
   "cell_type": "code",
   "execution_count": 31,
   "id": "f4dce691-0b61-4199-9320-3faf83995757",
   "metadata": {},
   "outputs": [],
   "source": [
    "# 得到模型预测\n",
    "def compute_predictions(trainer, dataset, tokenizer):\n",
    "    raw_preds = trainer.predict(dataset)\n",
    "    all_start_logits, all_end_logits = raw_preds.predictions\n",
    "\n",
    "    predictions = []\n",
    "\n",
    "    for i in tqdm(range(len(dataset))):\n",
    "        inputs = tokenizer(\n",
    "            dataset[i][\"question\"],\n",
    "            dataset[i][\"context\"],\n",
    "            truncation=\"only_second\",\n",
    "            max_length=512,\n",
    "            stride=128,\n",
    "            return_offsets_mapping=True,\n",
    "            padding=\"max_length\",\n",
    "            return_tensors=\"pt\",\n",
    "        )\n",
    "\n",
    "        offset_mapping = inputs[\"offset_mapping\"][0]\n",
    "        input_ids = inputs[\"input_ids\"][0]\n",
    "\n",
    "        start_logits = all_start_logits[i]\n",
    "        end_logits = all_end_logits[i]\n",
    "\n",
    "        # 找到最大概率的起止位置\n",
    "        start_idx = np.argmax(start_logits)\n",
    "        end_idx = np.argmax(end_logits)\n",
    "\n",
    "        if start_idx >= len(offset_mapping) or end_idx >= len(offset_mapping):\n",
    "            pred_answer = \"\"\n",
    "        else:\n",
    "            start_char = offset_mapping[start_idx][0]\n",
    "            end_char = offset_mapping[end_idx][1]\n",
    "            context = dataset[i][\"context\"]\n",
    "            pred_answer = context[start_char:end_char]\n",
    "\n",
    "        predictions.append({\n",
    "            \"id\": dataset[i][\"id\"],\n",
    "            \"prediction_text\": pred_answer,\n",
    "            \"no_answer_probability\": 0.0 \n",
    "        })\n",
    "\n",
    "    return predictions"
   ]
  },
  {
   "cell_type": "code",
   "execution_count": 32,
   "id": "b7dd40ed-dd64-40b0-a525-a3a10b8d5f63",
   "metadata": {},
   "outputs": [],
   "source": [
    "# 构建 references 格式\n",
    "def build_references(dataset):\n",
    "    references = []\n",
    "    for i in range(len(dataset)):\n",
    "        answer = dataset[i][\"answers\"]\n",
    "        references.append({\n",
    "            \"id\": dataset[i][\"id\"],\n",
    "            \"answers\": {\n",
    "                \"answer_start\": answer[\"answer_start\"],\n",
    "                \"text\": answer[\"text\"],\n",
    "            }\n",
    "        })\n",
    "    return references"
   ]
  },
  {
   "cell_type": "code",
   "execution_count": null,
   "id": "352442a4-76ea-4870-8c47-14bf2a421049",
   "metadata": {},
   "outputs": [],
   "source": [
    "# 执行评估\n",
    "predictions = compute_predictions(trainer, eval_dataset, tokenizer)\n",
    "references = build_references(eval_dataset)\n",
    "\n",
    "final_score = metric.compute(predictions=predictions, references=references)\n",
    "print(\"Evaluation Results:\")\n",
    "print(final_score)"
   ]
  }
 ],
 "metadata": {
  "kernelspec": {
   "display_name": "Python 3 (ipykernel)",
   "language": "python",
   "name": "python3"
  },
  "language_info": {
   "codemirror_mode": {
    "name": "ipython",
    "version": 3
   },
   "file_extension": ".py",
   "mimetype": "text/x-python",
   "name": "python",
   "nbconvert_exporter": "python",
   "pygments_lexer": "ipython3",
   "version": "3.9.21"
  }
 },
 "nbformat": 4,
 "nbformat_minor": 5
}
